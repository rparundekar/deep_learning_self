{
 "cells": [
  {
   "cell_type": "code",
   "execution_count": 1,
   "metadata": {
    "collapsed": false,
    "deletable": true,
    "editable": true
   },
   "outputs": [
    {
     "name": "stderr",
     "output_type": "stream",
     "text": [
      "Using TensorFlow backend.\n"
     ]
    }
   ],
   "source": [
    "%matplotlib inline  \n",
    "import struct\n",
    "from struct import unpack\n",
    "from numpy import zeros, uint8, float32\n",
    "from pylab import imshow, show, cm\n",
    "import matplotlib\n",
    "import numpy as np\n",
    "import matplotlib.pyplot as plt\n",
    "import subprocess\n",
    "\n",
    "\n",
    "#Initialize for keras\n",
    "import keras\n",
    "from keras.datasets import mnist\n",
    "from keras.models import Sequential, Input,Model\n",
    "from keras.layers import Dense, Dropout, Flatten\n",
    "from keras.layers import Conv2D, MaxPooling2D, AveragePooling2D\n",
    "from keras import backend as K"
   ]
  },
  {
   "cell_type": "code",
   "execution_count": 2,
   "metadata": {
    "collapsed": true,
    "deletable": true,
    "editable": true
   },
   "outputs": [],
   "source": [
    "# Define functions for reading data.\n",
    "# Based on https://gist.github.com/tylerneylon/\n",
    "def read_idx(filename):\n",
    "    \"\"\"\n",
    "        Read from file and create numpy array\n",
    "    \"\"\"\n",
    "    with open(filename, 'rb') as f:\n",
    "        zero, data_type, dims = struct.unpack('>HBB', f.read(4))\n",
    "        shape = tuple(struct.unpack('>I', f.read(4))[0] for d in range(dims))\n",
    "        return np.fromstring(f.read(), dtype=np.uint8).reshape(shape)\n",
    "\n",
    "def get_data(image_file, label_file, num_classes = 10):\n",
    "    \"\"\"\n",
    "        Read the image and label data\n",
    "    \"\"\"\n",
    "    # Read the files\n",
    "    pre_images = read_idx(image_file)\n",
    "    pre_labels = read_idx(label_file)\n",
    "    \n",
    "    images = np.zeros((len(pre_images), 28,28, 1), dtype=np.float32)\n",
    "    labels = np.zeros((len(pre_labels),num_classes), dtype=np.int8)\n",
    "    for i in range(len(pre_images)):\n",
    "        pre_img=pre_images[i]\n",
    "        pre_label=pre_labels[i]\n",
    "        img = (pre_img.transpose() / 255.0)\n",
    "        images[i] = img.reshape(28,28,1) \n",
    "        labels[i] = keras.utils.to_categorical(pre_label, num_classes)\n",
    "    \n",
    "    return images, labels\n",
    "\n",
    "def file_len(fname):\n",
    "    p = subprocess.Popen(['wc', '-l', fname], stdout=subprocess.PIPE, \n",
    "                                              stderr=subprocess.PIPE)\n",
    "    result, err = p.communicate()\n",
    "    if p.returncode != 0:\n",
    "        raise IOError(err)\n",
    "    return int(result.strip().split()[0])"
   ]
  },
  {
   "cell_type": "code",
   "execution_count": 3,
   "metadata": {
    "collapsed": false,
    "deletable": true,
    "editable": true
   },
   "outputs": [
    {
     "name": "stdout",
     "output_type": "stream",
     "text": [
      "Training Data\n",
      "Images Shape: (240000, 28, 28, 1)\n",
      "Labels Shape: (240000, 10)\n",
      "Training Data\n",
      "Images Shape: (10000, 28, 28, 1)\n",
      "Labels Shape: (10000, 10)\n"
     ]
    }
   ],
   "source": [
    "train_mapping_file = '/home/carnd/data/emnist/emnist-digits-mapping.txt'\n",
    "num_classes = file_len(train_mapping_file)\n",
    "train_image_file = '/home/carnd/data/emnist/emnist-digits-train-images-idx3-ubyte'\n",
    "train_label_file = '/home/carnd/data/emnist/emnist-digits-train-labels-idx1-ubyte'\n",
    "train_images, train_labels = get_data(train_image_file, train_label_file,num_classes)\n",
    "print ('Training Data')\n",
    "print ('Images Shape: {}'.format(train_images.shape))\n",
    "print ('Labels Shape: {}'.format(train_labels.shape))\n",
    "\n",
    "test_image_file = '/home/carnd/data/emnist/emnist-digits-test-images-idx3-ubyte'\n",
    "test_label_file = '/home/carnd/data/emnist/emnist-digits-test-labels-idx1-ubyte'\n",
    "test_images, test_labels = get_data(test_image_file, test_label_file,num_classes)\n",
    "print ('Training Data')\n",
    "print ('Images Shape: {}'.format(test_images.shape))\n",
    "print ('Labels Shape: {}'.format(test_labels.shape))"
   ]
  },
  {
   "cell_type": "code",
   "execution_count": 4,
   "metadata": {
    "collapsed": false,
    "deletable": true,
    "editable": true
   },
   "outputs": [
    {
     "name": "stdout",
     "output_type": "stream",
     "text": [
      "Label - 8 : [0 0 0 0 0 0 0 0 1 0] \n"
     ]
    },
    {
     "data": {
      "image/png": "[encoded data removed]",
      "text/plain": [
       "<matplotlib.figure.Figure at 0x7f648418c978>"
      ]
     },
     "metadata": {},
     "output_type": "display_data"
    },
    {
     "name": "stdout",
     "output_type": "stream",
     "text": [
      "Label - 9 : [0 0 0 0 0 0 0 0 0 1] \n"
     ]
    },
    {
     "data": {
      "image/png": "[encoded data removed]",
      "text/plain": [
       "<matplotlib.figure.Figure at 0x7f647c626978>"
      ]
     },
     "metadata": {},
     "output_type": "display_data"
    }
   ],
   "source": [
    "def view_image(image, label=\"\"):\n",
    "    \"\"\"View a single image.\"\"\"\n",
    "    print(\"Label - {} : {} \".format(np.argmax(label), label))\n",
    "    plt.imshow((image.reshape(28,28)), cmap=\"gray\")\n",
    "    plt.show()\n",
    "\n",
    "for i in range(2):\n",
    "    view_image(train_images[i], train_labels[i])"
   ]
  },
  {
   "cell_type": "code",
   "execution_count": 5,
   "metadata": {
    "collapsed": true,
    "deletable": true,
    "editable": true
   },
   "outputs": [],
   "source": [
    "# Train, Test split\n",
    "from sklearn.model_selection import train_test_split\n",
    "X_val, X_test, y_val, y_test = train_test_split(test_images, test_labels, test_size=0.5, random_state=42)"
   ]
  },
  {
   "cell_type": "code",
   "execution_count": 6,
   "metadata": {
    "collapsed": true,
    "deletable": true,
    "editable": true
   },
   "outputs": [],
   "source": [
    "# Initialize the hyperparameters\n",
    "input_shape = (28,28, 1)"
   ]
  },
  {
   "cell_type": "code",
   "execution_count": 7,
   "metadata": {
    "collapsed": false,
    "deletable": true,
    "editable": true
   },
   "outputs": [
    {
     "name": "stdout",
     "output_type": "stream",
     "text": [
      "_________________________________________________________________\n",
      "Layer (type)                 Output Shape              Param #   \n",
      "=================================================================\n",
      "input_1 (InputLayer)         (None, 28, 28, 1)         0         \n",
      "_________________________________________________________________\n",
      "conv1 (Conv2D)               (None, 28, 28, 32)        1600      \n",
      "_________________________________________________________________\n",
      "average_pooling2d_1 (Average (None, 9, 9, 32)          0         \n",
      "_________________________________________________________________\n",
      "conv2 (Conv2D)               (None, 9, 9, 64)          18496     \n",
      "_________________________________________________________________\n",
      "average_pooling2d_2 (Average (None, 4, 4, 64)          0         \n",
      "_________________________________________________________________\n",
      "conv3 (Conv2D)               (None, 4, 4, 128)         73856     \n",
      "_________________________________________________________________\n",
      "flatten_1 (Flatten)          (None, 2048)              0         \n",
      "_________________________________________________________________\n",
      "dense2 (Dense)               (None, 128)               262272    \n",
      "_________________________________________________________________\n",
      "dropout_1 (Dropout)          (None, 128)               0         \n",
      "_________________________________________________________________\n",
      "output (Dense)               (None, 10)                1290      \n",
      "=================================================================\n",
      "Total params: 357,514\n",
      "Trainable params: 357,514\n",
      "Non-trainable params: 0\n",
      "_________________________________________________________________\n"
     ]
    }
   ],
   "source": [
    "# Build model\n",
    "inputs = Input(shape=input_shape)\n",
    "conv = Conv2D(32, (7, 7), strides=(1, 1), padding='same', name = \"conv1\", activation='relu')(inputs)\n",
    "conv = AveragePooling2D((3, 3))(conv)\n",
    "conv = Conv2D(64, (3, 3), strides=(1, 1), padding='same', name = \"conv2\", activation='relu')(conv)\n",
    "conv = AveragePooling2D((2, 2))(conv)\n",
    "conv = Conv2D(128, (3, 3), strides=(1, 1), padding='same', name = \"conv3\", activation='relu')(conv)\n",
    "flat = Flatten()(conv)\n",
    "dense = Dense(128, activation='relu', name = \"dense2\")(flat)\n",
    "dropout = Dropout(0.4)(dense)\n",
    "outputs = Dense(num_classes, activation='softmax', name = \"output\")(dropout)\n",
    "\n",
    "model = Model(inputs=inputs, outputs=outputs)\n",
    "\n",
    "model.summary()\n",
    "model.compile(loss=keras.losses.categorical_crossentropy,\n",
    "              optimizer=keras.optimizers.Nadam(),\n",
    "              metrics=['accuracy'])"
   ]
  },
  {
   "cell_type": "code",
   "execution_count": 8,
   "metadata": {
    "collapsed": false,
    "deletable": true,
    "editable": true
   },
   "outputs": [
    {
     "name": "stdout",
     "output_type": "stream",
     "text": [
      "Train on 240000 samples, validate on 5000 samples\n",
      "Epoch 1/50\n",
      "25s - loss: 0.2660 - acc: 0.9167 - val_loss: 0.0450 - val_acc: 0.9856\n",
      "Epoch 2/50\n",
      "23s - loss: 0.0489 - acc: 0.9859 - val_loss: 0.0534 - val_acc: 0.9816\n",
      "Epoch 3/50\n",
      "23s - loss: 0.0342 - acc: 0.9901 - val_loss: 0.0208 - val_acc: 0.9934\n",
      "Epoch 4/50\n",
      "23s - loss: 0.0272 - acc: 0.9922 - val_loss: 0.0181 - val_acc: 0.9946\n",
      "Epoch 5/50\n",
      "23s - loss: 0.0238 - acc: 0.9933 - val_loss: 0.0100 - val_acc: 0.9968\n",
      "Epoch 6/50\n",
      "23s - loss: 0.0208 - acc: 0.9939 - val_loss: 0.0118 - val_acc: 0.9966\n",
      "Epoch 7/50\n",
      "23s - loss: 0.0185 - acc: 0.9947 - val_loss: 0.0104 - val_acc: 0.9968\n",
      "Epoch 8/50\n",
      "23s - loss: 0.0170 - acc: 0.9951 - val_loss: 0.0092 - val_acc: 0.9968\n",
      "Epoch 9/50\n",
      "23s - loss: 0.0152 - acc: 0.9957 - val_loss: 0.0081 - val_acc: 0.9978\n",
      "Epoch 10/50\n",
      "23s - loss: 0.0144 - acc: 0.9960 - val_loss: 0.0089 - val_acc: 0.9978\n",
      "Epoch 11/50\n",
      "23s - loss: 0.0132 - acc: 0.9961 - val_loss: 0.0072 - val_acc: 0.9980\n",
      "Epoch 12/50\n",
      "23s - loss: 0.0122 - acc: 0.9966 - val_loss: 0.0080 - val_acc: 0.9978\n",
      "Epoch 13/50\n",
      "23s - loss: 0.0115 - acc: 0.9966 - val_loss: 0.0081 - val_acc: 0.9982\n",
      "Epoch 14/50\n",
      "23s - loss: 0.0105 - acc: 0.9971 - val_loss: 0.0069 - val_acc: 0.9988\n",
      "Epoch 15/50\n",
      "23s - loss: 0.0098 - acc: 0.9971 - val_loss: 0.0082 - val_acc: 0.9976\n",
      "Epoch 16/50\n",
      "23s - loss: 0.0094 - acc: 0.9972 - val_loss: 0.0071 - val_acc: 0.9978\n",
      "Epoch 17/50\n",
      "23s - loss: 0.0091 - acc: 0.9974 - val_loss: 0.0056 - val_acc: 0.9982\n",
      "Epoch 18/50\n",
      "23s - loss: 0.0085 - acc: 0.9974 - val_loss: 0.0048 - val_acc: 0.9988\n",
      "Epoch 19/50\n",
      "23s - loss: 0.0084 - acc: 0.9975 - val_loss: 0.0063 - val_acc: 0.9976\n",
      "Epoch 20/50\n",
      "23s - loss: 0.0075 - acc: 0.9977 - val_loss: 0.0053 - val_acc: 0.9984\n",
      "Epoch 21/50\n",
      "23s - loss: 0.0074 - acc: 0.9978 - val_loss: 0.0037 - val_acc: 0.9988\n",
      "Epoch 22/50\n",
      "23s - loss: 0.0067 - acc: 0.9980 - val_loss: 0.0060 - val_acc: 0.9986\n",
      "Epoch 23/50\n",
      "23s - loss: 0.0065 - acc: 0.9980 - val_loss: 0.0059 - val_acc: 0.9984\n",
      "Epoch 24/50\n",
      "23s - loss: 0.0065 - acc: 0.9982 - val_loss: 0.0092 - val_acc: 0.9978\n",
      "Epoch 25/50\n",
      "23s - loss: 0.0065 - acc: 0.9980 - val_loss: 0.0081 - val_acc: 0.9990\n",
      "Epoch 26/50\n",
      "23s - loss: 0.0060 - acc: 0.9982 - val_loss: 0.0063 - val_acc: 0.9984\n",
      "Epoch 27/50\n",
      "23s - loss: 0.0056 - acc: 0.9983 - val_loss: 0.0086 - val_acc: 0.9980\n",
      "Epoch 28/50\n",
      "23s - loss: 0.0055 - acc: 0.9984 - val_loss: 0.0065 - val_acc: 0.9982\n",
      "Epoch 29/50\n",
      "23s - loss: 0.0052 - acc: 0.9985 - val_loss: 0.0058 - val_acc: 0.9982\n",
      "Epoch 30/50\n",
      "23s - loss: 0.0052 - acc: 0.9985 - val_loss: 0.0057 - val_acc: 0.9992\n",
      "Epoch 31/50\n",
      "23s - loss: 0.0054 - acc: 0.9984 - val_loss: 0.0048 - val_acc: 0.9990\n",
      "Epoch 32/50\n",
      "23s - loss: 0.0041 - acc: 0.9988 - val_loss: 0.0077 - val_acc: 0.9988\n",
      "Epoch 33/50\n",
      "23s - loss: 0.0041 - acc: 0.9989 - val_loss: 0.0041 - val_acc: 0.9990\n",
      "Epoch 34/50\n",
      "23s - loss: 0.0046 - acc: 0.9986 - val_loss: 0.0093 - val_acc: 0.9976\n",
      "Epoch 35/50\n",
      "23s - loss: 0.0045 - acc: 0.9987 - val_loss: 0.0044 - val_acc: 0.9986\n",
      "Epoch 36/50\n",
      "23s - loss: 0.0045 - acc: 0.9987 - val_loss: 0.0066 - val_acc: 0.9988\n",
      "Epoch 37/50\n",
      "23s - loss: 0.0039 - acc: 0.9989 - val_loss: 0.0052 - val_acc: 0.9984\n",
      "Epoch 38/50\n",
      "23s - loss: 0.0038 - acc: 0.9989 - val_loss: 0.0089 - val_acc: 0.9980\n",
      "Epoch 39/50\n",
      "23s - loss: 0.0038 - acc: 0.9989 - val_loss: 0.0082 - val_acc: 0.9988\n",
      "Epoch 40/50\n",
      "23s - loss: 0.0038 - acc: 0.9989 - val_loss: 0.0082 - val_acc: 0.9980\n",
      "Epoch 41/50\n",
      "23s - loss: 0.0048 - acc: 0.9985 - val_loss: 0.0067 - val_acc: 0.9988\n",
      "Epoch 42/50\n",
      "23s - loss: 0.0042 - acc: 0.9987 - val_loss: 0.0056 - val_acc: 0.9988\n",
      "Epoch 43/50\n",
      "23s - loss: 0.0032 - acc: 0.9990 - val_loss: 0.0071 - val_acc: 0.9988\n",
      "Epoch 44/50\n",
      "23s - loss: 0.0027 - acc: 0.9992 - val_loss: 0.0065 - val_acc: 0.9984\n",
      "Epoch 45/50\n",
      "23s - loss: 0.0037 - acc: 0.9990 - val_loss: 0.0079 - val_acc: 0.9988\n",
      "Epoch 46/50\n",
      "23s - loss: 0.0034 - acc: 0.9990 - val_loss: 0.0075 - val_acc: 0.9986\n",
      "Epoch 47/50\n",
      "23s - loss: 0.0030 - acc: 0.9991 - val_loss: 0.0070 - val_acc: 0.9990\n",
      "Epoch 48/50\n",
      "23s - loss: 0.0033 - acc: 0.9990 - val_loss: 0.0083 - val_acc: 0.9982\n",
      "Epoch 49/50\n",
      "23s - loss: 0.0032 - acc: 0.9992 - val_loss: 0.0060 - val_acc: 0.9986\n",
      "Epoch 50/50\n",
      "23s - loss: 0.0038 - acc: 0.9989 - val_loss: 0.0102 - val_acc: 0.9984\n"
     ]
    }
   ],
   "source": [
    "batch_size = 1000\n",
    "epochs = 50\n",
    "history = model.fit(train_images, train_labels,\n",
    "          batch_size=batch_size,\n",
    "          epochs=epochs,\n",
    "          verbose=2,\n",
    "          validation_data=(X_val, y_val))"
   ]
  },
  {
   "cell_type": "code",
   "execution_count": 9,
   "metadata": {
    "collapsed": false,
    "deletable": true,
    "editable": true
   },
   "outputs": [
    {
     "data": {
      "image/png": "[encoded data removed]",
      "text/plain": [
       "<matplotlib.figure.Figure at 0x7f6401f41cf8>"
      ]
     },
     "metadata": {},
     "output_type": "display_data"
    },
    {
     "data": {
      "image/png": "[encoded data removed]",
      "text/plain": [
       "<matplotlib.figure.Figure at 0x7f6401f493c8>"
      ]
     },
     "metadata": {},
     "output_type": "display_data"
    }
   ],
   "source": [
    "# summarize history for accuracy\n",
    "plt.plot(history.history['acc'])\n",
    "plt.plot(history.history['val_acc'])\n",
    "plt.title('model accuracy')\n",
    "plt.ylabel('accuracy')\n",
    "plt.xlabel('epoch')\n",
    "plt.legend(['train', 'test'], loc='upper left')\n",
    "plt.show()\n",
    "# summarize history for loss\n",
    "plt.plot(history.history['loss'])\n",
    "plt.plot(history.history['val_loss'])\n",
    "plt.title('model loss')\n",
    "plt.ylabel('loss')\n",
    "plt.xlabel('epoch')\n",
    "plt.legend(['train', 'test'], loc='upper left')\n",
    "plt.show()"
   ]
  },
  {
   "cell_type": "code",
   "execution_count": 10,
   "metadata": {
    "collapsed": false,
    "deletable": true,
    "editable": true
   },
   "outputs": [
    {
     "name": "stdout",
     "output_type": "stream",
     "text": [
      "5000/5000 [==============================] - 0s     \b\b\b\b\b\b\b\b\b\b\b\b\b\b\b\b\b\b\b\b\b\b\b\b\b\b\b\b\b\b\b\b\b\b\b\b\b\b\b\b\b\b\b\b\b\b\b\b\b\b\b\b\b\b\b\b\b\b\b\b\b\b\b\b\b\b\b\b\b\b\b\b\b\b\b\b\b\b\b\b\b\b\b\b\b\b\b\b\b\b\b\b\b\b\b\b\b\b\b\b\b\b\b\b\n",
      "Test loss: 0.0118432373652\n",
      "Test accuracy: 0.997600066662\n"
     ]
    }
   ],
   "source": [
    "score = model.evaluate(X_test, y_test, verbose=1, batch_size=batch_size)\n",
    "print('Test loss:', score[0])\n",
    "print('Test accuracy:', score[1])"
   ]
  },
  {
   "cell_type": "code",
   "execution_count": null,
   "metadata": {
    "collapsed": true,
    "deletable": true,
    "editable": true
   },
   "outputs": [],
   "source": []
  }
 ],
 "metadata": {
  "anaconda-cloud": {},
  "kernelspec": {
   "display_name": "Python 3",
   "language": "python",
   "name": "python3"
  },
  "language_info": {
   "codemirror_mode": {
    "name": "ipython",
    "version": 3
   },
   "file_extension": ".py",
   "mimetype": "text/x-python",
   "name": "python",
   "nbconvert_exporter": "python",
   "pygments_lexer": "ipython3",
   "version": "3.5.2"
  },
  "widgets": {
   "state": {},
   "version": "1.1.2"
  }
 },
 "nbformat": 4,
 "nbformat_minor": 2
}
