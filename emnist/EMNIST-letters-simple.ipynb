{
 "cells": [
  {
   "cell_type": "code",
   "execution_count": 1,
   "metadata": {
    "collapsed": false,
    "deletable": true,
    "editable": true
   },
   "outputs": [
    {
     "name": "stderr",
     "output_type": "stream",
     "text": [
      "Using TensorFlow backend.\n"
     ]
    }
   ],
   "source": [
    "%matplotlib inline  \n",
    "import struct\n",
    "from struct import unpack\n",
    "from numpy import zeros, uint8, float32\n",
    "from pylab import imshow, show, cm\n",
    "import matplotlib\n",
    "import numpy as np\n",
    "import matplotlib.pyplot as plt\n",
    "import subprocess\n",
    "\n",
    "\n",
    "#Initialize for keras\n",
    "import keras\n",
    "from keras.datasets import mnist\n",
    "from keras.models import Sequential, Input,Model\n",
    "from keras.layers import Dense, Dropout, Flatten\n",
    "from keras.layers import Conv2D, MaxPooling2D, AveragePooling2D\n",
    "from keras import backend as K"
   ]
  },
  {
   "cell_type": "code",
   "execution_count": 2,
   "metadata": {
    "collapsed": false,
    "deletable": true,
    "editable": true
   },
   "outputs": [],
   "source": [
    "# Define functions for reading data.\n",
    "# Based on https://gist.github.com/tylerneylon/\n",
    "def read_idx(filename):\n",
    "    \"\"\"\n",
    "        Read from file and create numpy array\n",
    "    \"\"\"\n",
    "    with open(filename, 'rb') as f:\n",
    "        zero, data_type, dims = struct.unpack('>HBB', f.read(4))\n",
    "        shape = tuple(struct.unpack('>I', f.read(4))[0] for d in range(dims))\n",
    "        return np.fromstring(f.read(), dtype=np.uint8).reshape(shape)\n",
    "\n",
    "def get_data(image_file, label_file, num_classes = 10, starts_at=0 ):\n",
    "    \"\"\"\n",
    "        Read the image and label data\n",
    "    \"\"\"\n",
    "    # Read the files\n",
    "    pre_images = read_idx(image_file)\n",
    "    pre_labels = read_idx(label_file)\n",
    "    \n",
    "    images = np.zeros((len(pre_images), 28,28, 1), dtype=np.float32)\n",
    "    labels = np.zeros((len(pre_labels),num_classes), dtype=np.int8)\n",
    "    for i in range(len(pre_images)):\n",
    "        pre_img=pre_images[i]\n",
    "        pre_label=pre_labels[i]-starts_at\n",
    "        img = (pre_img.transpose() / 255.0)\n",
    "        images[i] = img.reshape(28,28,1) \n",
    "        labels[i] = keras.utils.to_categorical(pre_label, num_classes)\n",
    "    \n",
    "    return images, labels\n",
    "\n",
    "def file_len(fname):\n",
    "    p = subprocess.Popen(['wc', '-l', fname], stdout=subprocess.PIPE, \n",
    "                                              stderr=subprocess.PIPE)\n",
    "    result, err = p.communicate()\n",
    "    if p.returncode != 0:\n",
    "        raise IOError(err)\n",
    "    return int(result.strip().split()[0])"
   ]
  },
  {
   "cell_type": "code",
   "execution_count": 3,
   "metadata": {
    "collapsed": false,
    "deletable": true,
    "editable": true
   },
   "outputs": [
    {
     "name": "stdout",
     "output_type": "stream",
     "text": [
      "Training Data\n",
      "Images Shape: (124800, 28, 28, 1)\n",
      "Labels Shape: (124800, 26)\n",
      "Training Data\n",
      "Images Shape: (20800, 28, 28, 1)\n",
      "Labels Shape: (20800, 26)\n"
     ]
    }
   ],
   "source": [
    "train_mapping_file = '/home/carnd/data/emnist/emnist-letters-mapping.txt'\n",
    "num_classes = file_len(train_mapping_file)\n",
    "train_image_file = '/home/carnd/data/emnist/emnist-letters-train-images-idx3-ubyte'\n",
    "train_label_file = '/home/carnd/data/emnist/emnist-letters-train-labels-idx1-ubyte'\n",
    "train_images, train_labels = get_data(train_image_file, train_label_file,num_classes, 1)\n",
    "print ('Training Data')\n",
    "print ('Images Shape: {}'.format(train_images.shape))\n",
    "print ('Labels Shape: {}'.format(train_labels.shape))\n",
    "\n",
    "test_image_file = '/home/carnd/data/emnist/emnist-letters-test-images-idx3-ubyte'\n",
    "test_label_file = '/home/carnd/data/emnist/emnist-letters-test-labels-idx1-ubyte'\n",
    "test_images, test_labels = get_data(test_image_file, test_label_file,num_classes,1)\n",
    "print ('Training Data')\n",
    "print ('Images Shape: {}'.format(test_images.shape))\n",
    "print ('Labels Shape: {}'.format(test_labels.shape))"
   ]
  },
  {
   "cell_type": "code",
   "execution_count": 4,
   "metadata": {
    "collapsed": false,
    "deletable": true,
    "editable": true
   },
   "outputs": [
    {
     "name": "stdout",
     "output_type": "stream",
     "text": [
      "Label - 22 : [0 0 0 0 0 0 0 0 0 0 0 0 0 0 0 0 0 0 0 0 0 0 1 0 0 0] \n"
     ]
    },
    {
     "data": {
      "image/png": "[encoded data removed]",
      "text/plain": [
       "<matplotlib.figure.Figure at 0x7f06941a9c50>"
      ]
     },
     "metadata": {},
     "output_type": "display_data"
    },
    {
     "name": "stdout",
     "output_type": "stream",
     "text": [
      "Label - 6 : [0 0 0 0 0 0 1 0 0 0 0 0 0 0 0 0 0 0 0 0 0 0 0 0 0 0] \n"
     ]
    },
    {
     "data": {
      "image/png": "[encoded data removed]",
      "text/plain": [
       "<matplotlib.figure.Figure at 0x7f067bc35c50>"
      ]
     },
     "metadata": {},
     "output_type": "display_data"
    }
   ],
   "source": [
    "def view_image(image, label=\"\"):\n",
    "    \"\"\"View a single image.\"\"\"\n",
    "    print(\"Label - {} : {} \".format(np.argmax(label), label))\n",
    "    plt.imshow((image.reshape(28,28)), cmap=\"gray\")\n",
    "    plt.show()\n",
    "\n",
    "for i in range(2):\n",
    "    view_image(train_images[i], train_labels[i])"
   ]
  },
  {
   "cell_type": "code",
   "execution_count": 5,
   "metadata": {
    "collapsed": true,
    "deletable": true,
    "editable": true
   },
   "outputs": [],
   "source": [
    "# Train, Test split\n",
    "from sklearn.model_selection import train_test_split\n",
    "X_val, X_test, y_val, y_test = train_test_split(test_images, test_labels, test_size=0.5, random_state=42)"
   ]
  },
  {
   "cell_type": "code",
   "execution_count": 6,
   "metadata": {
    "collapsed": true,
    "deletable": true,
    "editable": true
   },
   "outputs": [],
   "source": [
    "# Initialize the hyperparameters\n",
    "input_shape = (28,28, 1)"
   ]
  },
  {
   "cell_type": "code",
   "execution_count": 7,
   "metadata": {
    "collapsed": false,
    "deletable": true,
    "editable": true
   },
   "outputs": [
    {
     "name": "stdout",
     "output_type": "stream",
     "text": [
      "_________________________________________________________________\n",
      "Layer (type)                 Output Shape              Param #   \n",
      "=================================================================\n",
      "input_1 (InputLayer)         (None, 28, 28, 1)         0         \n",
      "_________________________________________________________________\n",
      "conv1 (Conv2D)               (None, 28, 28, 32)        1600      \n",
      "_________________________________________________________________\n",
      "dropout_1 (Dropout)          (None, 28, 28, 32)        0         \n",
      "_________________________________________________________________\n",
      "max_pooling2d_1 (MaxPooling2 (None, 14, 14, 32)        0         \n",
      "_________________________________________________________________\n",
      "conv2 (Conv2D)               (None, 14, 14, 64)        51264     \n",
      "_________________________________________________________________\n",
      "dropout_2 (Dropout)          (None, 14, 14, 64)        0         \n",
      "_________________________________________________________________\n",
      "max_pooling2d_2 (MaxPooling2 (None, 7, 7, 64)          0         \n",
      "_________________________________________________________________\n",
      "conv3 (Conv2D)               (None, 7, 7, 128)         73856     \n",
      "_________________________________________________________________\n",
      "dropout_3 (Dropout)          (None, 7, 7, 128)         0         \n",
      "_________________________________________________________________\n",
      "max_pooling2d_3 (MaxPooling2 (None, 3, 3, 128)         0         \n",
      "_________________________________________________________________\n",
      "conv4 (Conv2D)               (None, 3, 3, 256)         295168    \n",
      "_________________________________________________________________\n",
      "flatten_1 (Flatten)          (None, 2304)              0         \n",
      "_________________________________________________________________\n",
      "dense2 (Dense)               (None, 128)               295040    \n",
      "_________________________________________________________________\n",
      "dropout_4 (Dropout)          (None, 128)               0         \n",
      "_________________________________________________________________\n",
      "output (Dense)               (None, 26)                3354      \n",
      "=================================================================\n",
      "Total params: 720,282\n",
      "Trainable params: 720,282\n",
      "Non-trainable params: 0\n",
      "_________________________________________________________________\n"
     ]
    }
   ],
   "source": [
    "# Build model\n",
    "inputs = Input(shape=input_shape)\n",
    "conv = Conv2D(32, (7, 7), strides=(1, 1), padding='same', name = \"conv1\", activation='relu')(inputs)\n",
    "conv = Dropout(0.4)(conv)\n",
    "conv = MaxPooling2D((2, 2))(conv)\n",
    "conv = Conv2D(64, (5, 5), strides=(1, 1), padding='same', name = \"conv2\", activation='relu')(conv)\n",
    "conv = Dropout(0.4)(conv)\n",
    "conv = MaxPooling2D((2, 2))(conv)\n",
    "conv = Conv2D(128, (3, 3), strides=(1, 1), padding='same', name = \"conv3\", activation='relu')(conv)\n",
    "conv = Dropout(0.4)(conv)\n",
    "conv = MaxPooling2D((2, 2))(conv)\n",
    "conv = Conv2D(256, (3, 3), strides=(1, 1), padding='same', name = \"conv4\", activation='relu')(conv)\n",
    "flat = Flatten()(conv)\n",
    "dense = Dense(128, activation='relu', name = \"dense2\")(flat)\n",
    "dropout = Dropout(0.4)(dense)\n",
    "outputs = Dense(num_classes, activation='softmax', name = \"output\")(dropout)\n",
    "\n",
    "model = Model(inputs=inputs, outputs=outputs)\n",
    "\n",
    "model.summary()\n",
    "model.compile(loss=keras.losses.categorical_crossentropy,\n",
    "              optimizer=keras.optimizers.Nadam(),\n",
    "              metrics=['accuracy'])"
   ]
  },
  {
   "cell_type": "code",
   "execution_count": 8,
   "metadata": {
    "collapsed": false,
    "deletable": true,
    "editable": true
   },
   "outputs": [
    {
     "name": "stdout",
     "output_type": "stream",
     "text": [
      "Train on 124800 samples, validate on 10400 samples\n",
      "Epoch 1/50\n",
      "44s - loss: 1.2092 - acc: 0.6442 - val_loss: 0.6036 - val_acc: 0.9132\n",
      "Epoch 2/50\n",
      "37s - loss: 0.2971 - acc: 0.9053 - val_loss: 0.4143 - val_acc: 0.9298\n",
      "Epoch 3/50\n",
      "37s - loss: 0.2299 - acc: 0.9254 - val_loss: 0.3745 - val_acc: 0.9367\n",
      "Epoch 4/50\n",
      "37s - loss: 0.1978 - acc: 0.9352 - val_loss: 0.3250 - val_acc: 0.9411\n",
      "Epoch 5/50\n",
      "37s - loss: 0.1836 - acc: 0.9387 - val_loss: 0.3003 - val_acc: 0.9423\n",
      "Epoch 6/50\n",
      "37s - loss: 0.1718 - acc: 0.9420 - val_loss: 0.2841 - val_acc: 0.9419\n",
      "Epoch 7/50\n",
      "37s - loss: 0.1636 - acc: 0.9439 - val_loss: 0.2571 - val_acc: 0.9453\n",
      "Epoch 8/50\n",
      "37s - loss: 0.1557 - acc: 0.9461 - val_loss: 0.2640 - val_acc: 0.9448\n",
      "Epoch 9/50\n",
      "37s - loss: 0.1484 - acc: 0.9482 - val_loss: 0.2457 - val_acc: 0.9494\n",
      "Epoch 10/50\n",
      "37s - loss: 0.1466 - acc: 0.9490 - val_loss: 0.2487 - val_acc: 0.9444\n",
      "Epoch 11/50\n",
      "37s - loss: 0.1391 - acc: 0.9504 - val_loss: 0.2383 - val_acc: 0.9488\n",
      "Epoch 12/50\n",
      "37s - loss: 0.1380 - acc: 0.9503 - val_loss: 0.2434 - val_acc: 0.9470\n",
      "Epoch 13/50\n",
      "37s - loss: 0.1338 - acc: 0.9515 - val_loss: 0.2211 - val_acc: 0.9465\n",
      "Epoch 14/50\n",
      "37s - loss: 0.1304 - acc: 0.9528 - val_loss: 0.1906 - val_acc: 0.9458\n",
      "Epoch 15/50\n",
      "37s - loss: 0.1284 - acc: 0.9528 - val_loss: 0.2160 - val_acc: 0.9489\n",
      "Epoch 16/50\n",
      "37s - loss: 0.1258 - acc: 0.9539 - val_loss: 0.1768 - val_acc: 0.9495\n",
      "Epoch 17/50\n",
      "37s - loss: 0.1251 - acc: 0.9545 - val_loss: 0.1937 - val_acc: 0.9450\n",
      "Epoch 18/50\n",
      "37s - loss: 0.1215 - acc: 0.9551 - val_loss: 0.2209 - val_acc: 0.9463\n",
      "Epoch 19/50\n",
      "37s - loss: 0.1205 - acc: 0.9554 - val_loss: 0.1893 - val_acc: 0.9483\n",
      "Epoch 20/50\n",
      "37s - loss: 0.1188 - acc: 0.9558 - val_loss: 0.1924 - val_acc: 0.9438\n",
      "Epoch 21/50\n",
      "37s - loss: 0.1182 - acc: 0.9565 - val_loss: 0.1789 - val_acc: 0.9476\n",
      "Epoch 22/50\n",
      "37s - loss: 0.1174 - acc: 0.9563 - val_loss: 0.1967 - val_acc: 0.9465\n",
      "Epoch 23/50\n",
      "37s - loss: 0.1160 - acc: 0.9565 - val_loss: 0.1753 - val_acc: 0.9496\n",
      "Epoch 24/50\n",
      "37s - loss: 0.1118 - acc: 0.9578 - val_loss: 0.1754 - val_acc: 0.9488\n",
      "Epoch 25/50\n",
      "37s - loss: 0.1118 - acc: 0.9579 - val_loss: 0.1790 - val_acc: 0.9484\n",
      "Epoch 26/50\n",
      "37s - loss: 0.1120 - acc: 0.9576 - val_loss: 0.1664 - val_acc: 0.9478\n",
      "Epoch 27/50\n",
      "37s - loss: 0.1098 - acc: 0.9581 - val_loss: 0.1705 - val_acc: 0.9484\n",
      "Epoch 28/50\n",
      "37s - loss: 0.1087 - acc: 0.9592 - val_loss: 0.1682 - val_acc: 0.9485\n",
      "Epoch 29/50\n",
      "37s - loss: 0.1094 - acc: 0.9577 - val_loss: 0.1646 - val_acc: 0.9469\n",
      "Epoch 30/50\n",
      "37s - loss: 0.1096 - acc: 0.9581 - val_loss: 0.1676 - val_acc: 0.9478\n",
      "Epoch 31/50\n",
      "37s - loss: 0.1067 - acc: 0.9595 - val_loss: 0.1620 - val_acc: 0.9465\n",
      "Epoch 32/50\n",
      "37s - loss: 0.1056 - acc: 0.9589 - val_loss: 0.1596 - val_acc: 0.9489\n",
      "Epoch 33/50\n",
      "37s - loss: 0.1055 - acc: 0.9593 - val_loss: 0.1625 - val_acc: 0.9500\n",
      "Epoch 34/50\n",
      "37s - loss: 0.1057 - acc: 0.9592 - val_loss: 0.1559 - val_acc: 0.9465\n",
      "Epoch 35/50\n",
      "37s - loss: 0.1029 - acc: 0.9593 - val_loss: 0.1532 - val_acc: 0.9492\n",
      "Epoch 36/50\n",
      "37s - loss: 0.1057 - acc: 0.9593 - val_loss: 0.1565 - val_acc: 0.9484\n",
      "Epoch 37/50\n",
      "37s - loss: 0.1052 - acc: 0.9594 - val_loss: 0.1548 - val_acc: 0.9495\n",
      "Epoch 38/50\n",
      "37s - loss: 0.1026 - acc: 0.9603 - val_loss: 0.1611 - val_acc: 0.9482\n",
      "Epoch 39/50\n",
      "37s - loss: 0.1024 - acc: 0.9606 - val_loss: 0.1584 - val_acc: 0.9496\n",
      "Epoch 40/50\n",
      "37s - loss: 0.1018 - acc: 0.9608 - val_loss: 0.1564 - val_acc: 0.9499\n",
      "Epoch 41/50\n",
      "37s - loss: 0.1033 - acc: 0.9603 - val_loss: 0.1532 - val_acc: 0.9509\n",
      "Epoch 42/50\n",
      "37s - loss: 0.1002 - acc: 0.9613 - val_loss: 0.1549 - val_acc: 0.9508\n",
      "Epoch 43/50\n",
      "37s - loss: 0.1009 - acc: 0.9608 - val_loss: 0.1552 - val_acc: 0.9514\n",
      "Epoch 44/50\n",
      "37s - loss: 0.1021 - acc: 0.9608 - val_loss: 0.1547 - val_acc: 0.9481\n",
      "Epoch 45/50\n",
      "37s - loss: 0.0993 - acc: 0.9608 - val_loss: 0.1502 - val_acc: 0.9511\n",
      "Epoch 46/50\n",
      "37s - loss: 0.0974 - acc: 0.9620 - val_loss: 0.1539 - val_acc: 0.9496\n",
      "Epoch 47/50\n",
      "37s - loss: 0.0976 - acc: 0.9615 - val_loss: 0.1571 - val_acc: 0.9469\n",
      "Epoch 48/50\n",
      "37s - loss: 0.0983 - acc: 0.9619 - val_loss: 0.1559 - val_acc: 0.9489\n",
      "Epoch 49/50\n",
      "37s - loss: 0.0980 - acc: 0.9614 - val_loss: 0.1531 - val_acc: 0.9501\n",
      "Epoch 50/50\n",
      "37s - loss: 0.0973 - acc: 0.9614 - val_loss: 0.1541 - val_acc: 0.9485\n"
     ]
    }
   ],
   "source": [
    "batch_size = 1000\n",
    "epochs = 50\n",
    "history = model.fit(train_images, train_labels,\n",
    "          batch_size=batch_size,\n",
    "          epochs=epochs,\n",
    "          verbose=2,\n",
    "          validation_data=(X_val, y_val))"
   ]
  },
  {
   "cell_type": "code",
   "execution_count": 9,
   "metadata": {
    "collapsed": false,
    "deletable": true,
    "editable": true
   },
   "outputs": [
    {
     "data": {
      "image/png": "[encoded data removed]",
      "text/plain": [
       "<matplotlib.figure.Figure at 0x7f05f6931ba8>"
      ]
     },
     "metadata": {},
     "output_type": "display_data"
    },
    {
     "data": {
      "image/png": "[encoded data removed]",
      "text/plain": [
       "<matplotlib.figure.Figure at 0x7f05f40b02e8>"
      ]
     },
     "metadata": {},
     "output_type": "display_data"
    }
   ],
   "source": [
    "# summarize history for accuracy\n",
    "plt.plot(history.history['acc'])\n",
    "plt.plot(history.history['val_acc'])\n",
    "plt.title('model accuracy')\n",
    "plt.ylabel('accuracy')\n",
    "plt.xlabel('epoch')\n",
    "plt.legend(['train', 'test'], loc='upper left')\n",
    "plt.show()\n",
    "# summarize history for loss\n",
    "plt.plot(history.history['loss'])\n",
    "plt.plot(history.history['val_loss'])\n",
    "plt.title('model loss')\n",
    "plt.ylabel('loss')\n",
    "plt.xlabel('epoch')\n",
    "plt.legend(['train', 'test'], loc='upper left')\n",
    "plt.show()"
   ]
  },
  {
   "cell_type": "code",
   "execution_count": 10,
   "metadata": {
    "collapsed": false,
    "deletable": true,
    "editable": true
   },
   "outputs": [
    {
     "name": "stdout",
     "output_type": "stream",
     "text": [
      "10000/10400 [===========================>..] - ETA: 0s\b\b\b\b\b\b\b\b\b\b\b\b\b\b\b\b\b\b\b\b\b\b\b\b\b\b\b\b\b\b\b\b\b\b\b\b\b\b\b\b\b\b\b\b\b\b\b\b\b\b\b\b\b\b\b\b\b\b\b\b\b\b\b\b\b\b\b\b\b\b\b\b\b\b\b\b\b\b\b\b\b\b\b\b\b\b\b\b\b\b\b\b\b\b\b\b\b\b\b\b\b\b\b\b\b\b\b\b\b\b\b\b\b\b\b\b\b\b\b\b\b\b\b\b\b\b\b\b\b\b\b\b\b\b\b\b\b\b\b\b\b\b\b\b\b\b\b\b\b\b\b\b\b\b\b\b\b\b\b\b\b\b\b\b\b\b\b\b\b\b\b\b\b\b\b\b\b\b\b\b\b\b\b\b\b\b\b\b\b\b\b\b\b\b\b\b\b\b\b\b\b\b\b\b\b\b\b\b\b\b\b\b\b\b\b\b\b\b\b\b\b\b\b\b\b\b\b\b\b\b\b\b\b\b\b\b\b\b\b\b\b\b\b\b\b\b\b\b\b\b\b\b\b\b\b\b\b\b\b\b\b\b\b\b\b\b\b\b\b\b\b\b\b\b\b\b\b\b\b\b\b\b\b\b\b\b\b\b\b\b\b\b\b\b\b\b\b\b\b\b\b\b\b\b\b\b\b\b\b\b\b\b\b\b\b\b\b\b\b\b\b\b\b\b\b\b\b\b\b\b\b\b\b\b\b\b\b\b\b\b\b\b\b\b\b\b\b\b\b\b\b\b\b\b\b\b\b\b\b\b\b\b\b\b\b\b\b\b\b\b\b\b\b\b\b\b\b\b\b\b\b\b\b\b\b\b\b\b\b\b\b\b\b\b\b\b\b\b\b\b\b\b\b\b\b\b\b\b\b\b\b\b\b\b\b\b\b\b\b\b\b\b\b\b\b\b\b\b\b\b\b\b\b\b\b\b\b\b\b\b\b\b\b\b\b\b\b\b\b\b\b\b\b\b\b\b\b\b\b\b\b\b\b\b\b\b\b\b\b\b\b\b\b\b\b\b\b\b\b\b\b\b\b\b\b\bTest loss: 0.159593482144\n",
      "Test accuracy: 0.94798081884\n"
     ]
    }
   ],
   "source": [
    "score = model.evaluate(X_test, y_test, verbose=1, batch_size=batch_size)\n",
    "print('Test loss:', score[0])\n",
    "print('Test accuracy:', score[1])"
   ]
  },
  {
   "cell_type": "code",
   "execution_count": null,
   "metadata": {
    "collapsed": true,
    "deletable": true,
    "editable": true
   },
   "outputs": [],
   "source": []
  }
 ],
 "metadata": {
  "anaconda-cloud": {},
  "kernelspec": {
   "display_name": "Python 3",
   "language": "python",
   "name": "python3"
  },
  "language_info": {
   "codemirror_mode": {
    "name": "ipython",
    "version": 3
   },
   "file_extension": ".py",
   "mimetype": "text/x-python",
   "name": "python",
   "nbconvert_exporter": "python",
   "pygments_lexer": "ipython3",
   "version": "3.5.2"
  },
  "widgets": {
   "state": {},
   "version": "1.1.2"
  }
 },
 "nbformat": 4,
 "nbformat_minor": 2
}
