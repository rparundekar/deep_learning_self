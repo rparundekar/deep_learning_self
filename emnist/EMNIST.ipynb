{
 "cells": [
  {
   "cell_type": "code",
   "execution_count": 73,
   "metadata": {
    "collapsed": true
   },
   "outputs": [],
   "source": [
    "%matplotlib inline  \n",
    "from struct import unpack\n",
    "from numpy import zeros, uint8, float32\n",
    "from pylab import imshow, show, cm\n",
    "import matplotlib\n",
    "import numpy as np\n",
    "import matplotlib.pyplot as plt\n",
    "\n",
    "#Initialize for keras\n",
    "import keras\n",
    "from keras.datasets import mnist\n",
    "from keras.models import Sequential\n",
    "from keras.layers import Dense, Dropout, Flatten\n",
    "from keras.layers import Conv2D, MaxPooling2D\n",
    "from keras import backend as K"
   ]
  },
  {
   "cell_type": "code",
   "execution_count": 106,
   "metadata": {},
   "outputs": [],
   "source": [
    "# Define functions for reading data.\n",
    "# Based on https://gist.github.com/tylerneylon/\n",
    "def read_idx(filename):\n",
    "    \"\"\"\n",
    "        Read from file and create numpy array\n",
    "    \"\"\"\n",
    "    with open(filename, 'rb') as f:\n",
    "        zero, data_type, dims = struct.unpack('>HBB', f.read(4))\n",
    "        shape = tuple(struct.unpack('>I', f.read(4))[0] for d in range(dims))\n",
    "        return np.fromstring(f.read(), dtype=np.uint8).reshape(shape)\n",
    "\n",
    "def get_data(image_file, label_file, num_classes = 10):\n",
    "    \"\"\"\n",
    "        Read the image and label data\n",
    "    \"\"\"\n",
    "    # Read the files\n",
    "    pre_images = read_idx(image_file)\n",
    "    pre_labels = read_idx(label_file)\n",
    "    \n",
    "    images = np.zeros((len(pre_images), 28,28, 1), dtype=np.float32)\n",
    "    labels = np.zeros((len(pre_labels),num_classes), dtype=np.int8)\n",
    "    for i in range(len(pre_images)):\n",
    "        pre_img=pre_images[i]\n",
    "        pre_label=pre_labels[i]\n",
    "        img = (pre_img.transpose() / 255.0) - 0.5\n",
    "        images[i] = img.reshape(28,28,1) \n",
    "        labels[i] = keras.utils.to_categorical(pre_label, num_classes)\n",
    "    \n",
    "    return images, labels\n"
   ]
  },
  {
   "cell_type": "code",
   "execution_count": 107,
   "metadata": {},
   "outputs": [
    {
     "name": "stdout",
     "output_type": "stream",
     "text": [
      "Images Shape: (60000, 28, 28, 1)\n",
      "Labels Shape: (60000, 10)\n"
     ]
    }
   ],
   "source": [
    "image_file = '/Users/rparundekar/dataspace/EMNIST/mnist/emnist-mnist-train-images-idx3-ubyte'\n",
    "label_file = '/Users/rparundekar/dataspace/EMNIST/mnist/emnist-mnist-train-labels-idx1-ubyte'\n",
    "\n",
    "images, labels = get_data(image_file, label_file)\n",
    "print ('Images Shape: {}'.format(images.shape))\n",
    "print ('Labels Shape: {}'.format(labels.shape))"
   ]
  },
  {
   "cell_type": "code",
   "execution_count": 108,
   "metadata": {},
   "outputs": [
    {
     "name": "stdout",
     "output_type": "stream",
     "text": [
      "Label - 4 : [0 0 0 0 1 0 0 0 0 0] \n"
     ]
    },
    {
     "data": {
      "image/png": "[encoded data removed]",
      "text/plain": [
       "<matplotlib.figure.Figure at 0x12a57cd30>"
      ]
     },
     "metadata": {},
     "output_type": "display_data"
    },
    {
     "name": "stdout",
     "output_type": "stream",
     "text": [
      "Label - 1 : [0 1 0 0 0 0 0 0 0 0] \n"
     ]
    },
    {
     "data": {
      "image/png": "[encoded data removed]",
      "text/plain": [
       "<matplotlib.figure.Figure at 0x12a9099e8>"
      ]
     },
     "metadata": {},
     "output_type": "display_data"
    },
    {
     "name": "stdout",
     "output_type": "stream",
     "text": [
      "Label - 4 : [0 0 0 0 1 0 0 0 0 0] \n"
     ]
    },
    {
     "data": {
      "image/png": "[encoded data removed]",
      "text/plain": [
       "<matplotlib.figure.Figure at 0x12a61f7b8>"
      ]
     },
     "metadata": {},
     "output_type": "display_data"
    },
    {
     "name": "stdout",
     "output_type": "stream",
     "text": [
      "Label - 1 : [0 1 0 0 0 0 0 0 0 0] \n"
     ]
    },
    {
     "data": {
      "image/png": "[encoded data removed]",
      "text/plain": [
       "<matplotlib.figure.Figure at 0x12a8c7b70>"
      ]
     },
     "metadata": {},
     "output_type": "display_data"
    },
    {
     "name": "stdout",
     "output_type": "stream",
     "text": [
      "Label - 6 : [0 0 0 0 0 0 1 0 0 0] \n"
     ]
    },
    {
     "data": {
      "image/png": "[encoded data removed]",
      "text/plain": [
       "<matplotlib.figure.Figure at 0x12a7363c8>"
      ]
     },
     "metadata": {},
     "output_type": "display_data"
    }
   ],
   "source": [
    "def view_image(image, label=\"\"):\n",
    "    \"\"\"View a single image.\"\"\"\n",
    "    print(\"Label - {} : {} \".format(np.argmax(label), label))\n",
    "    plt.imshow((image.reshape(28,28)+0.5), cmap=\"gray\")\n",
    "    plt.show()\n",
    "\n",
    "for i in range(5):\n",
    "    view_image(images[i], labels[i])"
   ]
  },
  {
   "cell_type": "code",
   "execution_count": 95,
   "metadata": {
    "collapsed": true
   },
   "outputs": [],
   "source": [
    "# Train, Test split\n",
    "from sklearn.model_selection import train_test_split\n",
    "X_train, X_test, y_train, y_test = train_test_split(images, labels, test_size=0.2, random_state=42)"
   ]
  },
  {
   "cell_type": "code",
   "execution_count": 111,
   "metadata": {},
   "outputs": [],
   "source": [
    "# Initialize the hyperparameters\n",
    "batch_size = 128\n",
    "input_shape = (28,28, 1)"
   ]
  },
  {
   "cell_type": "code",
   "execution_count": 131,
   "metadata": {},
   "outputs": [],
   "source": [
    "# Build model\n",
    "model = Sequential()\n",
    "model.add(Conv2D(16, kernel_size=(7, 7), strides=(1,1),\n",
    "                 kernel_initializer='glorot_normal', activation='relu', \n",
    "                 input_shape=input_shape))\n",
    "model.add(Dropout(0.2))\n",
    "model.add(Conv2D(16, kernel_size=(2, 2), strides=(2,2), kernel_initializer='glorot_normal', activation='relu'))\n",
    "model.add(Dropout(0.2))\n",
    "model.add(Conv2D(32, kernel_size=(5, 5), strides=(1,1), kernel_initializer='glorot_normal', activation='relu'))\n",
    "model.add(Dropout(0.2))\n",
    "model.add(Conv2D(32, kernel_size=(2, 2), strides=(2,2), kernel_initializer='glorot_normal', activation='relu'))\n",
    "model.add(Dropout(0.2))\n",
    "model.add(Conv2D(64, kernel_size=(3, 3), strides=(1,1), kernel_initializer='glorot_normal', activation='relu'))\n",
    "model.add(Dropout(0.2))\n",
    "model.add(Flatten())\n",
    "model.add(Dense(512, activation='relu'))\n",
    "model.add(Dropout(0.2))\n",
    "model.add(Dense(128, activation='relu'))\n",
    "model.add(Dropout(0.2))\n",
    "model.add(Dense(num_classes, activation='softmax'))\n",
    "\n",
    "model.compile(loss=keras.losses.categorical_crossentropy,\n",
    "              optimizer=keras.optimizers.Nadam(),\n",
    "              metrics=['accuracy'])"
   ]
  },
  {
   "cell_type": "code",
   "execution_count": 132,
   "metadata": {},
   "outputs": [
    {
     "name": "stdout",
     "output_type": "stream",
     "text": [
      "Train on 48000 samples, validate on 12000 samples\n",
      "Epoch 1/5\n",
      "48000/48000 [==============================] - 45s - loss: 0.4387 - acc: 0.8617 - val_loss: 0.0948 - val_acc: 0.9709\n",
      "Epoch 2/5\n",
      "48000/48000 [==============================] - 46s - loss: 0.1346 - acc: 0.9626 - val_loss: 0.0716 - val_acc: 0.9792\n",
      "Epoch 3/5\n",
      "48000/48000 [==============================] - 46s - loss: 0.0999 - acc: 0.9715 - val_loss: 0.0540 - val_acc: 0.9851\n",
      "Epoch 4/5\n",
      "48000/48000 [==============================] - 42s - loss: 0.0856 - acc: 0.9761 - val_loss: 0.0504 - val_acc: 0.9862\n",
      "Epoch 5/5\n",
      "48000/48000 [==============================] - 41s - loss: 0.0795 - acc: 0.9774 - val_loss: 0.0497 - val_acc: 0.9870\n"
     ]
    },
    {
     "data": {
      "text/plain": [
       "<keras.callbacks.History at 0x13de9a780>"
      ]
     },
     "execution_count": 132,
     "metadata": {},
     "output_type": "execute_result"
    }
   ],
   "source": [
    "epochs = 5\n",
    "model.fit(X_train, y_train,\n",
    "          batch_size=batch_size,\n",
    "          epochs=epochs,\n",
    "          verbose=1,\n",
    "          validation_data=(X_test, y_test))"
   ]
  },
  {
   "cell_type": "code",
   "execution_count": 133,
   "metadata": {},
   "outputs": [
    {
     "name": "stdout",
     "output_type": "stream",
     "text": [
      "11904/12000 [============================>.] - ETA: 0sTest loss: 0.0496510801688\n",
      "Test accuracy: 0.987000000159\n"
     ]
    }
   ],
   "source": [
    "score = model.evaluate(X_test, y_test, verbose=1, batch_size=batch_size)\n",
    "print('Test loss:', score[0])\n",
    "print('Test accuracy:', score[1])"
   ]
  },
  {
   "cell_type": "code",
   "execution_count": null,
   "metadata": {
    "collapsed": true
   },
   "outputs": [],
   "source": []
  }
 ],
 "metadata": {
  "kernelspec": {
   "display_name": "Python 3",
   "language": "python",
   "name": "python3"
  },
  "language_info": {
   "codemirror_mode": {
    "name": "ipython",
    "version": 3
   },
   "file_extension": ".py",
   "mimetype": "text/x-python",
   "name": "python",
   "nbconvert_exporter": "python",
   "pygments_lexer": "ipython3",
   "version": "3.6.1"
  }
 },
 "nbformat": 4,
 "nbformat_minor": 2
}
