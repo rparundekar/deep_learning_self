{
 "cells": [
  {
   "cell_type": "code",
   "execution_count": 1,
   "metadata": {
    "collapsed": false,
    "deletable": true,
    "editable": true
   },
   "outputs": [
    {
     "name": "stderr",
     "output_type": "stream",
     "text": [
      "Using TensorFlow backend.\n"
     ]
    }
   ],
   "source": [
    "%matplotlib inline  \n",
    "import struct\n",
    "from struct import unpack\n",
    "from numpy import zeros, uint8, float32\n",
    "from pylab import imshow, show, cm\n",
    "import matplotlib\n",
    "import numpy as np\n",
    "import matplotlib.pyplot as plt\n",
    "import subprocess\n",
    "\n",
    "\n",
    "#Initialize for keras\n",
    "import keras\n",
    "from keras.datasets import mnist\n",
    "from keras.models import Sequential, Input,Model\n",
    "from keras.layers import Dense, Dropout, Flatten\n",
    "from keras.layers import Conv2D, MaxPooling2D, AveragePooling2D\n",
    "from keras import backend as K"
   ]
  },
  {
   "cell_type": "code",
   "execution_count": 2,
   "metadata": {
    "collapsed": false,
    "deletable": true,
    "editable": true
   },
   "outputs": [],
   "source": [
    "# Define functions for reading data.\n",
    "# Based on https://gist.github.com/tylerneylon/\n",
    "def read_idx(filename):\n",
    "    \"\"\"\n",
    "        Read from file and create numpy array\n",
    "    \"\"\"\n",
    "    with open(filename, 'rb') as f:\n",
    "        zero, data_type, dims = struct.unpack('>HBB', f.read(4))\n",
    "        shape = tuple(struct.unpack('>I', f.read(4))[0] for d in range(dims))\n",
    "        return np.fromstring(f.read(), dtype=np.uint8).reshape(shape)\n",
    "\n",
    "def get_data(image_file, label_file, num_classes = 10, starts_at=0 ):\n",
    "    \"\"\"\n",
    "        Read the image and label data\n",
    "    \"\"\"\n",
    "    # Read the files\n",
    "    pre_images = read_idx(image_file)\n",
    "    pre_labels = read_idx(label_file)\n",
    "    \n",
    "    images = np.zeros((len(pre_images), 28,28, 1), dtype=np.float32)\n",
    "    labels = np.zeros((len(pre_labels),num_classes), dtype=np.int8)\n",
    "    for i in range(len(pre_images)):\n",
    "        pre_img=pre_images[i]\n",
    "        pre_label=pre_labels[i]-starts_at\n",
    "        img = (pre_img.transpose() / 255.0)\n",
    "        images[i] = img.reshape(28,28,1) \n",
    "        labels[i] = keras.utils.to_categorical(pre_label, num_classes)\n",
    "    \n",
    "    return images, labels\n",
    "\n",
    "def file_len(fname):\n",
    "    p = subprocess.Popen(['wc', '-l', fname], stdout=subprocess.PIPE, \n",
    "                                              stderr=subprocess.PIPE)\n",
    "    result, err = p.communicate()\n",
    "    if p.returncode != 0:\n",
    "        raise IOError(err)\n",
    "    return int(result.strip().split()[0])"
   ]
  },
  {
   "cell_type": "code",
   "execution_count": 3,
   "metadata": {
    "collapsed": false,
    "deletable": true,
    "editable": true
   },
   "outputs": [
    {
     "name": "stdout",
     "output_type": "stream",
     "text": [
      "Training Data\n",
      "Images Shape: (697932, 28, 28, 1)\n",
      "Labels Shape: (697932, 47)\n",
      "Training Data\n",
      "Images Shape: (116323, 28, 28, 1)\n",
      "Labels Shape: (116323, 47)\n"
     ]
    }
   ],
   "source": [
    "train_mapping_file = '/home/carnd/data/emnist/emnist-bymerge-mapping.txt'\n",
    "num_classes = file_len(train_mapping_file)\n",
    "train_image_file = '/home/carnd/data/emnist/emnist-bymerge-train-images-idx3-ubyte'\n",
    "train_label_file = '/home/carnd/data/emnist/emnist-bymerge-train-labels-idx1-ubyte'\n",
    "train_images, train_labels = get_data(train_image_file, train_label_file,num_classes)\n",
    "print ('Training Data')\n",
    "print ('Images Shape: {}'.format(train_images.shape))\n",
    "print ('Labels Shape: {}'.format(train_labels.shape))\n",
    "\n",
    "test_image_file = '/home/carnd/data/emnist/emnist-bymerge-test-images-idx3-ubyte'\n",
    "test_label_file = '/home/carnd/data/emnist/emnist-bymerge-test-labels-idx1-ubyte'\n",
    "test_images, test_labels = get_data(test_image_file, test_label_file,num_classes)\n",
    "print ('Training Data')\n",
    "print ('Images Shape: {}'.format(test_images.shape))\n",
    "print ('Labels Shape: {}'.format(test_labels.shape))"
   ]
  },
  {
   "cell_type": "code",
   "execution_count": 4,
   "metadata": {
    "collapsed": false,
    "deletable": true,
    "editable": true
   },
   "outputs": [
    {
     "name": "stdout",
     "output_type": "stream",
     "text": [
      "Label - 24 : [0 0 0 0 0 0 0 0 0 0 0 0 0 0 0 0 0 0 0 0 0 0 0 0 1 0 0 0 0 0 0 0 0 0 0 0 0\n",
      " 0 0 0 0 0 0 0 0 0 0] \n"
     ]
    },
    {
     "data": {
      "image/png": "[encoded data removed]",
      "text/plain": [
       "<matplotlib.figure.Figure at 0x7f6d84cd2f60>"
      ]
     },
     "metadata": {},
     "output_type": "display_data"
    },
    {
     "name": "stdout",
     "output_type": "stream",
     "text": [
      "Label - 36 : [0 0 0 0 0 0 0 0 0 0 0 0 0 0 0 0 0 0 0 0 0 0 0 0 0 0 0 0 0 0 0 0 0 0 0 0 1\n",
      " 0 0 0 0 0 0 0 0 0 0] \n"
     ]
    },
    {
     "data": {
      "image/png": "[encoded data removed]",
      "text/plain": [
       "<matplotlib.figure.Figure at 0x7f6dd5aa6e10>"
      ]
     },
     "metadata": {},
     "output_type": "display_data"
    }
   ],
   "source": [
    "def view_image(image, label=\"\"):\n",
    "    \"\"\"View a single image.\"\"\"\n",
    "    print(\"Label - {} : {} \".format(np.argmax(label), label))\n",
    "    plt.imshow((image.reshape(28,28)), cmap=\"gray\")\n",
    "    plt.show()\n",
    "\n",
    "for i in range(2):\n",
    "    view_image(train_images[i], train_labels[i])"
   ]
  },
  {
   "cell_type": "code",
   "execution_count": 5,
   "metadata": {
    "collapsed": true,
    "deletable": true,
    "editable": true
   },
   "outputs": [],
   "source": [
    "# Train, Test split\n",
    "from sklearn.model_selection import train_test_split\n",
    "X_val, X_test, y_val, y_test = train_test_split(test_images, test_labels, test_size=0.5, random_state=42)"
   ]
  },
  {
   "cell_type": "code",
   "execution_count": 6,
   "metadata": {
    "collapsed": true,
    "deletable": true,
    "editable": true
   },
   "outputs": [],
   "source": [
    "# Initialize the hyperparameters\n",
    "input_shape = (28,28, 1)"
   ]
  },
  {
   "cell_type": "code",
   "execution_count": 14,
   "metadata": {
    "collapsed": false,
    "deletable": true,
    "editable": true
   },
   "outputs": [
    {
     "name": "stdout",
     "output_type": "stream",
     "text": [
      "_________________________________________________________________\n",
      "Layer (type)                 Output Shape              Param #   \n",
      "=================================================================\n",
      "input_4 (InputLayer)         (None, 28, 28, 1)         0         \n",
      "_________________________________________________________________\n",
      "conv1 (Conv2D)               (None, 28, 28, 32)        1600      \n",
      "_________________________________________________________________\n",
      "dropout_11 (Dropout)         (None, 28, 28, 32)        0         \n",
      "_________________________________________________________________\n",
      "max_pooling2d_8 (MaxPooling2 (None, 14, 14, 32)        0         \n",
      "_________________________________________________________________\n",
      "conv3 (Conv2D)               (None, 14, 14, 64)        100416    \n",
      "_________________________________________________________________\n",
      "dropout_12 (Dropout)         (None, 14, 14, 64)        0         \n",
      "_________________________________________________________________\n",
      "max_pooling2d_9 (MaxPooling2 (None, 7, 7, 64)          0         \n",
      "_________________________________________________________________\n",
      "conv4 (Conv2D)               (None, 7, 7, 128)         401536    \n",
      "_________________________________________________________________\n",
      "flatten_4 (Flatten)          (None, 6272)              0         \n",
      "_________________________________________________________________\n",
      "dense2 (Dense)               (None, 128)               802944    \n",
      "_________________________________________________________________\n",
      "dropout_13 (Dropout)         (None, 128)               0         \n",
      "_________________________________________________________________\n",
      "output (Dense)               (None, 47)                6063      \n",
      "=================================================================\n",
      "Total params: 1,312,559\n",
      "Trainable params: 1,312,559\n",
      "Non-trainable params: 0\n",
      "_________________________________________________________________\n"
     ]
    }
   ],
   "source": [
    "# Build model\n",
    "inputs = Input(shape=input_shape)\n",
    "conv = Conv2D(32, (7, 7), strides=(1, 1), padding='same', name = \"conv1\", activation='relu')(inputs)\n",
    "conv = Dropout(0.4)(conv)\n",
    "conv = MaxPooling2D((2, 2))(conv)\n",
    "conv = Conv2D(64, (7, 7), strides=(1, 1), padding='same', name = \"conv3\", activation='relu')(conv)\n",
    "conv = Dropout(0.4)(conv)\n",
    "conv = MaxPooling2D((2, 2))(conv)\n",
    "conv = Conv2D(128, (7, 7), strides=(1, 1), padding='same', name = \"conv4\", activation='relu')(conv)\n",
    "flat = Flatten()(conv)\n",
    "dense = Dense(128, activation='relu', name = \"dense2\")(flat)\n",
    "dropout = Dropout(0.4)(dense)\n",
    "outputs = Dense(num_classes, activation='softmax', name = \"output\")(dropout)\n",
    "\n",
    "model = Model(inputs=inputs, outputs=outputs)\n",
    "\n",
    "model.summary()\n",
    "model.compile(loss=keras.losses.categorical_crossentropy,\n",
    "              optimizer=keras.optimizers.Nadam(),\n",
    "              metrics=['accuracy'])"
   ]
  },
  {
   "cell_type": "code",
   "execution_count": 15,
   "metadata": {
    "collapsed": false,
    "deletable": true,
    "editable": true
   },
   "outputs": [
    {
     "name": "stdout",
     "output_type": "stream",
     "text": [
      "Train on 697932 samples, validate on 58161 samples\n",
      "Epoch 1/50\n",
      "199s - loss: 0.5827 - acc: 0.8214 - val_loss: 0.3965 - val_acc: 0.8950\n",
      "Epoch 2/50\n",
      "197s - loss: 0.3130 - acc: 0.8896 - val_loss: 0.3507 - val_acc: 0.9006\n",
      "Epoch 3/50\n",
      "198s - loss: 0.2920 - acc: 0.8954 - val_loss: 0.3095 - val_acc: 0.8998\n",
      "Epoch 4/50\n",
      "197s - loss: 0.2800 - acc: 0.8979 - val_loss: 0.3061 - val_acc: 0.9018\n",
      "Epoch 5/50\n",
      "197s - loss: 0.2725 - acc: 0.9005 - val_loss: 0.3003 - val_acc: 0.9021\n",
      "Epoch 6/50\n",
      "197s - loss: 0.2668 - acc: 0.9017 - val_loss: 0.2803 - val_acc: 0.9044\n",
      "Epoch 7/50\n",
      "197s - loss: 0.2619 - acc: 0.9031 - val_loss: 0.2712 - val_acc: 0.9031\n",
      "Epoch 8/50\n",
      "197s - loss: 0.2580 - acc: 0.9040 - val_loss: 0.2689 - val_acc: 0.9044\n",
      "Epoch 9/50\n",
      "197s - loss: 0.2547 - acc: 0.9052 - val_loss: 0.2610 - val_acc: 0.9056\n",
      "Epoch 10/50\n",
      "197s - loss: 0.2519 - acc: 0.9054 - val_loss: 0.2653 - val_acc: 0.9064\n",
      "Epoch 11/50\n",
      "197s - loss: 0.2498 - acc: 0.9060 - val_loss: 0.2590 - val_acc: 0.9055\n",
      "Epoch 12/50\n",
      "197s - loss: 0.2480 - acc: 0.9066 - val_loss: 0.2608 - val_acc: 0.9041\n",
      "Epoch 13/50\n",
      "197s - loss: 0.2454 - acc: 0.9071 - val_loss: 0.2593 - val_acc: 0.9044\n",
      "Epoch 14/50\n",
      "197s - loss: 0.2445 - acc: 0.9073 - val_loss: 0.2646 - val_acc: 0.9027\n",
      "Epoch 15/50\n",
      "197s - loss: 0.2427 - acc: 0.9079 - val_loss: 0.2584 - val_acc: 0.9043\n",
      "Epoch 16/50\n",
      "197s - loss: 0.2400 - acc: 0.9085 - val_loss: 0.2589 - val_acc: 0.9046\n",
      "Epoch 17/50\n",
      "198s - loss: 0.2392 - acc: 0.9087 - val_loss: 0.2552 - val_acc: 0.9046\n",
      "Epoch 18/50\n",
      "197s - loss: 0.2382 - acc: 0.9091 - val_loss: 0.2580 - val_acc: 0.9046\n",
      "Epoch 19/50\n",
      "197s - loss: 0.2379 - acc: 0.9091 - val_loss: 0.2532 - val_acc: 0.9063\n",
      "Epoch 20/50\n",
      "197s - loss: 0.2368 - acc: 0.9096 - val_loss: 0.2573 - val_acc: 0.9052\n",
      "Epoch 21/50\n",
      "197s - loss: 0.2360 - acc: 0.9096 - val_loss: 0.2529 - val_acc: 0.9067\n",
      "Epoch 22/50\n",
      "197s - loss: 0.2359 - acc: 0.9094 - val_loss: 0.2587 - val_acc: 0.9022\n",
      "Epoch 23/50\n",
      "197s - loss: 0.2348 - acc: 0.9099 - val_loss: 0.2559 - val_acc: 0.9051\n",
      "Epoch 24/50\n",
      "197s - loss: 0.2333 - acc: 0.9099 - val_loss: 0.2547 - val_acc: 0.9053\n",
      "Epoch 25/50\n",
      "197s - loss: 0.2328 - acc: 0.9104 - val_loss: 0.2554 - val_acc: 0.9052\n",
      "Epoch 26/50\n",
      "197s - loss: 0.2324 - acc: 0.9105 - val_loss: 0.2560 - val_acc: 0.9055\n",
      "Epoch 27/50\n",
      "197s - loss: 0.2315 - acc: 0.9108 - val_loss: 0.2565 - val_acc: 0.9060\n",
      "Epoch 28/50\n",
      "197s - loss: 0.2308 - acc: 0.9111 - val_loss: 0.2522 - val_acc: 0.9084\n",
      "Epoch 29/50\n",
      "197s - loss: 0.2309 - acc: 0.9108 - val_loss: 0.2559 - val_acc: 0.9069\n",
      "Epoch 30/50\n",
      "197s - loss: 0.2292 - acc: 0.9114 - val_loss: 0.2578 - val_acc: 0.9052\n",
      "Epoch 31/50\n",
      "197s - loss: 0.2305 - acc: 0.9109 - val_loss: 0.2571 - val_acc: 0.9061\n",
      "Epoch 32/50\n",
      "197s - loss: 0.2288 - acc: 0.9119 - val_loss: 0.2589 - val_acc: 0.9064\n",
      "Epoch 33/50\n",
      "197s - loss: 0.2285 - acc: 0.9116 - val_loss: 0.2585 - val_acc: 0.9056\n",
      "Epoch 34/50\n",
      "197s - loss: 0.2283 - acc: 0.9115 - val_loss: 0.2582 - val_acc: 0.9054\n",
      "Epoch 35/50\n",
      "197s - loss: 0.2286 - acc: 0.9116 - val_loss: 0.2553 - val_acc: 0.9057\n",
      "Epoch 36/50\n",
      "197s - loss: 0.2279 - acc: 0.9118 - val_loss: 0.2577 - val_acc: 0.9064\n",
      "Epoch 37/50\n",
      "197s - loss: 0.2263 - acc: 0.9122 - val_loss: 0.2588 - val_acc: 0.9047\n",
      "Epoch 38/50\n",
      "197s - loss: 0.2261 - acc: 0.9120 - val_loss: 0.2581 - val_acc: 0.9060\n",
      "Epoch 39/50\n",
      "197s - loss: 0.2256 - acc: 0.9125 - val_loss: 0.2598 - val_acc: 0.9048\n",
      "Epoch 40/50\n",
      "197s - loss: 0.2265 - acc: 0.9123 - val_loss: 0.2594 - val_acc: 0.9063\n",
      "Epoch 41/50\n",
      "197s - loss: 0.2261 - acc: 0.9123 - val_loss: 0.2566 - val_acc: 0.9072\n",
      "Epoch 42/50\n",
      "197s - loss: 0.2265 - acc: 0.9120 - val_loss: 0.2568 - val_acc: 0.9056\n",
      "Epoch 43/50\n",
      "197s - loss: 0.2247 - acc: 0.9125 - val_loss: 0.2621 - val_acc: 0.9044\n",
      "Epoch 44/50\n",
      "197s - loss: 0.2257 - acc: 0.9126 - val_loss: 0.2591 - val_acc: 0.9061\n",
      "Epoch 45/50\n",
      "197s - loss: 0.2246 - acc: 0.9128 - val_loss: 0.2661 - val_acc: 0.9024\n",
      "Epoch 46/50\n",
      "197s - loss: 0.2251 - acc: 0.9125 - val_loss: 0.2601 - val_acc: 0.9049\n",
      "Epoch 47/50\n",
      "197s - loss: 0.2244 - acc: 0.9127 - val_loss: 0.2574 - val_acc: 0.9062\n",
      "Epoch 48/50\n",
      "196s - loss: 0.2232 - acc: 0.9136 - val_loss: 0.2597 - val_acc: 0.9050\n",
      "Epoch 49/50\n",
      "197s - loss: 0.2246 - acc: 0.9129 - val_loss: 0.2581 - val_acc: 0.9060\n",
      "Epoch 50/50\n",
      "197s - loss: 0.2229 - acc: 0.9133 - val_loss: 0.2606 - val_acc: 0.9051\n"
     ]
    }
   ],
   "source": [
    "batch_size = 1000\n",
    "epochs = 50\n",
    "history = model.fit(train_images, train_labels,\n",
    "          batch_size=batch_size,\n",
    "          epochs=epochs,\n",
    "          verbose=2,\n",
    "          validation_data=(X_val, y_val))"
   ]
  },
  {
   "cell_type": "code",
   "execution_count": 16,
   "metadata": {
    "collapsed": false,
    "deletable": true,
    "editable": true
   },
   "outputs": [
    {
     "data": {
      "image/png": "[encoded data removed]",
      "text/plain": [
       "<matplotlib.figure.Figure at 0x7f6c6a7e8c50>"
      ]
     },
     "metadata": {},
     "output_type": "display_data"
    },
    {
     "data": {
      "image/png": "[encoded data removed]",
      "text/plain": [
       "<matplotlib.figure.Figure at 0x7f6d37750d30>"
      ]
     },
     "metadata": {},
     "output_type": "display_data"
    }
   ],
   "source": [
    "# summarize history for accuracy\n",
    "plt.plot(history.history['acc'])\n",
    "plt.plot(history.history['val_acc'])\n",
    "plt.title('model accuracy')\n",
    "plt.ylabel('accuracy')\n",
    "plt.xlabel('epoch')\n",
    "plt.legend(['train', 'test'], loc='upper left')\n",
    "plt.show()\n",
    "# summarize history for loss\n",
    "plt.plot(history.history['loss'])\n",
    "plt.plot(history.history['val_loss'])\n",
    "plt.title('model loss')\n",
    "plt.ylabel('loss')\n",
    "plt.xlabel('epoch')\n",
    "plt.legend(['train', 'test'], loc='upper left')\n",
    "plt.show()"
   ]
  },
  {
   "cell_type": "code",
   "execution_count": 17,
   "metadata": {
    "collapsed": false,
    "deletable": true,
    "editable": true
   },
   "outputs": [
    {
     "name": "stdout",
     "output_type": "stream",
     "text": [
      "58162/58162 [==============================] - 4s     \b\b\b\b\b\b\b\b\b\b\b\b\b\b\b\b\b\b\b\b\b\b\b\b\b\b\b\b\b\b\b\b\b\b\b\b\b\b\b\b\b\b\b\b\b\b\b\b\b\b\b\b\b\b\b\b\b\b\b\b\b\b\b\b\b\b\b\b\b\b\b\b\b\b\b\b\b\b\b\b\b\b\b\b\b\b\b\b\b\b\b\b\b\b\b\b\b\b\b\b\b\b\b\b\b\b\b\b\b\b\b\b\b\b\b\b\b\b\b\b\b\b\b\b\b\b\b\b\b\b\b\b\b\b\b\b\b\b\b\b\b\b\b\b\b\b\b\b\b\b\b\b\b\b\b\b\b\b\b\b\b\b\b\b\b\b\b\b\b\b\b\b\b\b\b\b\b\b\b\b\b\b\b\b\b\b\b\b\b\b\b\b\b\b\b\b\b\b\b\b\b\b\b\b\b\b\b\b\b\b\b\b\b\b\b\b\b\b\b\b\b\b\b\b\b\b\b\b\b\b\b\b\b\b\b\b\b\b\b\b\b\b\b\b\b\b\b\b\b\b\b\b\b\b\b\b\b\b\b\b\b\b\b\b\b\b\b\b\b\b\b\b\b\b\b\b\b\b\b\b\b\b\b\b\b\b\b\b\b\b\b\b\b\b\b\b\b\b\b\b\b\b\b\b\b\b\b\b\b\b\b\b\b\b\b\b\b\b\b\b\b\b\b\b\b\b\b\b\b\b\b\b\b\b\b\b\b\b\b\b\b\b\b\b\b\b\b\b\b\b\b\b\b\b\b\b\b\b\b\b\b\b\b\b\b\b\b\b\b\b\b\b\b\b\b\b\b\b\b\b\b\b\b\b\b\b\b\b\b\b\b\b\b\b\b\b\b\b\b\b\b\b\b\b\b\b\b\b\b\b\b\b\b\b\b\b\b\b\b\b\b\b\b\b\b\b\b\b\b\b\b\b\b\b\b\b\b\b\b\b\b\b\b\b\b\b\b\b\b\b\b\b\b\b\b\b\b\b\b\b\b\b\b\b\b\b\b\b\b\b\b\b\b\b\b\b\b\b\b\b\b\b\b\b\b\b\b\b\b\b\b\b\b\b\b\b\b\b\b\b\b\b\b\b\b\b\b\b\b\b\b\b\b\b\b\b\b\b\b\b\b\b\b\b\b\b\b\b\b\b\b\b\b\b\b\b\b\b\b\b\b\b\b\b\b\b\b\b\b\b\b\b\b\b\b\b\b\b\b\b\b\b\b\b\b\b\b\b\b\b\b\b\b\b\b\b\b\b\b\b\b\b\b\b\b\b\b\b\b\b\b\b\b\b\b\b\b\b\b\b\b\b\b\b\b\b\b\b\b\b\b\b\b\b\b\b\b\b\b\b\b\b\b\b\b\b\b\b\b\b\b\b\b\b\b\b\b\b\b\b\b\b\b\b\b\b\b\b\b\b\b\b\b\b\b\b\b\b\b\b\b\b\b\b\b\b\b\b\b\b\b\b\b\b\b\b\b\b\b\b\b\b\b\b\b\b\b\b\b\b\b\b\b\b\b\b\b\b\b\b\b\b\b\b\b\b\b\b\b\b\b\b\b\b\b\b\b\b\b\b\b\b\b\b\b\b\b\b\b\b\b\b\b\b\b\b\b\b\b\b\b\b\b\b\b\b\b\b\b\b\b\b\b\b\b\b\b\b\b\b\b\b\b\b\b\b\b\b\b\b\b\b\b\b\b\b\b\b\b\b\b\b\b\b\b\b\b\b\b\b\b\b\b\b\b\b\b\b\b\b\b\b\b\b\b\b\b\b\b\b\b\b\b\b\b\b\b\b\b\b\b\b\b\b\b\b\b\b\b\b\b\b\b\b\b\b\b\b\b\b\b\b\b\b\b\b\b\b\b\b\b\b\b\b\b\b\b\b\b\b\b\b\b\b\b\b\b\b\b\b\b\b\b\b\b\b\b\b\b\b\b\b\b\b\b\b\b\b\b\b\b\b\b\b\b\b\b\b\b\b\b\b\b\b\b\b\b\b\b\b\b\b\b\b\b\b\b\b\b\b\b\b\b\b\b\b\b\b\b\b\b\b\b\b\b\b\b\b\b\b\b\b\b\b\b\b\b\b\b\b\b\b\b\b\b\b\b\b\b\b\b\b\b\b\b\b\b\b\b\b\b\b\b\b\b\b\b\b\b\b\b\b\b\b\b\b\b\b\b\b\b\b\b\b\b\b\b\b\b\b\b\b\b\b\b\b\b\b\b\b\b\b\b\b\b\b\b\b\b\b\b\b\b\b\b\b\b\b\b\b\b\b\b\b\b\b\b\b\b\b\b\b\b\b\b\b\b\b\b\b\b\b\b\b\b\b\b\b\b\b\b\b\b\b\b\b\b\b\b\b\b\b\b\b\b\b\b\b\b\b\b\b\b\b\b\b\b\b\b\b\b\b\b\b\b\b\b\b\b\b\b\b\b\b\b\b\b\b\b\b\b\b\b\b\b\b\b\b\b\b\b\b\b\b\b\b\b\b\b\b\b\b\b\b\b\b\b\b\b\b\b\b\b\b\b\b\b\b\b\b\b\b\b\b\b\b\b\b\b\b\b\b\b\b\b\b\b\b\b\b\b\b\b\b\b\b\b\b\b\b\b\b\b\b\b\b\b\b\b\b\b\b\b\b\b\b\b\b\b\b\b\b\b\b\b\b\b\b\b\b\b\b\b\b\b\b\b\b\b\b\b\b\b\b\b\b\b\b\b\b\b\b\b\b\b\b\b\b\b\b\b\b\b\b\b\b\b\b\b\b\b\b\b\b\b\b\b\b\b\b\b\b\b\b\b\b\b\b\b\b\b\b\b\b\b\b\b\b\b\b\b\b\b\b\b\b\b\b\b\b\b\b\b\b\b\b\b\b\b\b\b\b\b\b\b\b\b\b\b\b\b\b\b\b\b\b\b\b\b\b\b\b\b\b\b\b\b\b\b\b\b\b\b\b\b\b\b\b\b\b\b\b\b\b\b\b\b\b\b\b\b\b\b\b\b\b\b\b\b\b\b\b\b\b\b\b\b\b\b\b\b\b\b\b\b\b\b\b\b\b\b\b\b\b\b\b\b\b\b\b\b\b\b\b\b\b\b\b\b\b\b\b\b\b\b\b\b\b\b\b\b\b\b\b\b\b\b\b\b\b\b\b\b\b\b\b\b\b\b\b\b\b\b\b\b\b\b\b\b\b\b\b\b\b\b\b\b\b\b\b\b\b\b\b\b\b\b\b\b\b\b\b\b\b\b\b\b\b\b\b\b\b\b\b\b\b\b\b\b\b\b\b\b\b\b\b\b\b\b\b\b\b\b\b\b\b\b\b\b\b\b\b\b\b\b\b\b\b\b\b\b\b\b\b\b\b\b\b\b\b\b\b\b\b\b\b\b\b\b\b\b\b\b\b\b\b\b\b\b\b\b\b\b\b\b\b\b\b\b\b\b\b\b\b\b\b\b\b\b\b\b\b\b\b\b\b\b\b\b\b\b\b\b\b\b\b\b\b\b\b\b\b\b\b\b\b\b\b\b\b\b\b\b\b\b\b\b\b\b\b\b\b\b\b\b\b\b\b\b\b\b\b\b\b\b\b\b\b\b\b\b\b\b\b\b\b\b\b\b\b\b\b\b\b\b\b\b\b\b\b\b\b\b\b\b\b\b\b\b\b\b\b\b\b\b\b\b\b\b\b\b\b\b\b\b\b\b\b\b\b\b\b\b\b\b\b\b\b\b\b\b\b\b\b\b\b\b\b\b\b\b\b\b\b\b\b\b\b\b\b\b\b\b\b\b\b\b\b\b\b\b\b\b\b\b\b\b\b\b\b\b\b\b\b\b\b\b\b\b\b\b\b\b\b\b\b\b\b\b\b\b\b\b\b\b\b\b\b\b\b\b\b\b\b\b\b\b\b\b\b\b\b\b\b\b\b\b\b\b\b\b\b\b\b\b\b\b\b\b\b\b\b\b\b\b\b\b\b\b\b\b\b\b\b\b\b\b\b\b\b\b\b\b\b\b\b\b\b\b\b\b\b\b\b\b\b\b\b\b\b\b\b\b\b\b\b\b\b\b\b\b\b\b\b\b\b\b\b\b\b\b\b\b\b\b\b\b\b\b\b\b\b\b\b\b\b\b\b\b\b\b\b\b\b\b\b\b\b\b\b\b\b\b\b\b\b\b\b\b\b\b\b\b\b\b\b\b\b\b\b\b\b\b\b\b\b\b\b\b\b\b\b\b\b\b\b\b\b\b\b\b\b\b\b\b\b\b\b\b\b\b\b\b\b\b\b\b\b\b\b\b\b\b\b\b\b\b\b\b\b\b\b\b\b\b\b\b\b\b\b\b\b\b\b\b\b\b\b\b\b\b\b\b\b\b\b\b\b\b\b\b\b\b\b\b\b\b\b\b\b\b\b\b\b\b\b\b\b\b\b\b\b\b\b\b\b\b\b\b\b\b\b\b\b\b\b\b\b\b\b\b\b\b\b\b\b\b\b\b\b\b\b\b\b\b\b\b\b\b\b\b\b\b\b\b\b\b\b\b\b\b\b\b\b\b\b\b\b\b\b\b\b\b\b\b\b\b\b\b\b\b\b\b\b\b\b\b\b\b\b\b\b\b\b\b\b\b\b\b\b\b\b\b\b\b\b\b\b\b\b\b\b\b\b\b\b\b\b\b\b\b\b\b\b\b\b\b\b\b\b\b\b\b\b\b\b\b\b\b\b\b\b\b\b\b\b\b\b\b\b\b\b\b\b\b\b\b\b\b\b\b\b\b\b\b\b\b\b\b\b\b\b\b\b\b\b\b\b\b\b\b\b\b\b\b\b\b\b\b\b\b\b\b\b\b\b\b\b\b\b\b\b\b\b\b\b\b\b\b\b\b\b\b\b\b\b\b\b\b\b\b\b\b\b\b\b\b\b\b\b\b\b\b\b\b\b\b\b\b\b\b\b\b\b\b\b\b\b\b\b\b\b\b\b\b\b\b\b\b\b\b\b\b\b\b\b\b\b\b\b\b\b\b\b\b\b\b\b\b\b\b\b\b\b\b\b\b\b\b\b\b\b\b\b\b\b\b\b\b\b\b\b\b\b\b\b\b\b\b\b\b\b\b\b\b\b\b\b\b\b\b\b\b\b\b\b\b\b\b\b\b\b\b\b\b\b\b\b\b\b\b\b\b\b\b\b\b\b\b\b\b\b\b\b\b\b\b\b\b\b\b\b\b\b\b\b\b\b\b\b\b\b\b\b\b\b\b\b\b\b\b\b\b\b\b\b\b\b\b\b\b\b\b\b\b\b\b\b\b\b\b\b\b\b\b\b\b\b\b\b\b\b\b\b\b\b\b\b\b\b\b\b\b\b\b\b\b\b\b\b\b\b\b\b\b\b\b\b\b\b\b\b\b\b\b\b\b\b\b\b\b\b\b\b\b\b\b\b\b\b\b\b\b\b\b\b\b\b\b\b\b\b\b\b\b\b\b\b\b\b\b\b\b\b\b\b\b\b\b\b\b\b\b\b\b\b\b\b\b\b\b\b\b\b\b\b\b\b\b\b\b\b\b\b\b\b\b\b\b\b\b\b\b\b\b\b\b\b\b\b\b\b\b\b\b\b\b\b\b\b\b\b\b\b\b\b\b\b\b\b\b\b\b\b\b\b\b\b\b\b\b\b\b\b\b\b\b\b\b\b\b\b\b\b\b\b\b\b\b\b\b\b\b\b\b\b\b\b\b\b\b\b\b\b\b\b\b\b\b\b\b\b\b\b\b\b\b\b\b\b\b\b\b\b\b\b\b\b\b\b\b\b\b\b\b\b\b\b\b\b\b\b\b\b\b\b\b\b\b\b\b\b\b\b\b\b\b\b\b\b\b\b\b\b\b\b\b\b\b\b\b\b\b\b\b\b\b\b\b\b\b\b\b\b\b\b\b\b\b\b\b\b\b\b\b\b\b\b\b\b\b\b\b\b\b\b\b\b\b\b\b\b\b\b\b\b\b\b\b\b\b\b\b\b\b\b\b\b\b\b\b\b\b\b\b\b\b\b\b\b\b\b\b\b\b\b\b\b\b\b\b\b\b\b\b\b\b\b\b\b\b\b\b\b\b\b\b\b\b\b\b\b\b\b\b\b\b\b\b\b\b\b\b\b\b\b\b\b\b\b\b\b\b\b\b\b\b\b\b\b\b\b\b\b\b\b\b\b\b\b\b\b\b\b\b\b\b\b\b\b\b\b\b\b\b\b\b\b\b\b\b\b\b\b\b\b\b\b\b\b\b\b\b\b\b\b\b\b\b\b\b\b\b\b\b\b\b\b\b\b\b\b\b\b\b\b\b\b\b\b\b\b\b\b\b\b\b\b\b\b\b\b\b\b\b\b\b\b\b\b\b\b\b\b\b\b\b\b\b\b\b\b\b\b\b\b\b\b\b\b\b\b\b\b\b\b\b\b\b\b\b\b\b\b\b\b\b\b\b\b\b\b\b\b\b\b\b\b\b\b\b\b\b\b\b\b\b\b\b\b\b\b\b\b\b\b\b\b\b\b\b\b\b\b\b\b\b\b\b\b\b\b\b\b\b\b\b\b\b\b\b\b\b\b\b\b\b\b\b\b\b\b\b\b\b\b\b\b\b\b\b\b\b\b\b\b\b\b\b\b\b\b\b\b\b\b\b\b\b\b\b\b\b\b\b\b\b\b\b\b\b\b\b\b\b\b\b\b\b\b\b\b\b\b\b\b\b\b\b\b\b\b\b\b\b\b\b\b\b\b\b\b\b\b\b\b\b\b\b\b\b\b\b\b\b\b\b\b\b\b\b\b\b\b\b\b\b\b\b\b\b\b\b\b\b\b\b\b\b\b\b\b\b\b\b\b\b\b\b\b\b\b\b\b\b\b\b\b\b\b\b\b\b\b\b\b\b\b\b\b\b\b\b\b\b\b\b\b\b\b\b\b\b\b\b\b\b\b\b\b\b\b\b\b\b\b\b\b\b\b\b\b\n",
      "Test loss: 0.259860303524\n",
      "Test accuracy: 0.905092708084\n"
     ]
    }
   ],
   "source": [
    "score = model.evaluate(X_test, y_test, verbose=1, batch_size=batch_size)\n",
    "print('Test loss:', score[0])\n",
    "print('Test accuracy:', score[1])"
   ]
  },
  {
   "cell_type": "code",
   "execution_count": null,
   "metadata": {
    "collapsed": true,
    "deletable": true,
    "editable": true
   },
   "outputs": [],
   "source": []
  }
 ],
 "metadata": {
  "anaconda-cloud": {},
  "kernelspec": {
   "display_name": "Python 3",
   "language": "python",
   "name": "python3"
  },
  "language_info": {
   "codemirror_mode": {
    "name": "ipython",
    "version": 3
   },
   "file_extension": ".py",
   "mimetype": "text/x-python",
   "name": "python",
   "nbconvert_exporter": "python",
   "pygments_lexer": "ipython3",
   "version": "3.5.2"
  },
  "widgets": {
   "state": {},
   "version": "1.1.2"
  }
 },
 "nbformat": 4,
 "nbformat_minor": 2
}
