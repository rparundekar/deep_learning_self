{
 "cells": [
  {
   "cell_type": "code",
   "execution_count": 1,
   "metadata": {
    "collapsed": false,
    "deletable": true,
    "editable": true
   },
   "outputs": [
    {
     "name": "stderr",
     "output_type": "stream",
     "text": [
      "Using TensorFlow backend.\n"
     ]
    }
   ],
   "source": [
    "%matplotlib inline  \n",
    "import struct\n",
    "from struct import unpack\n",
    "from numpy import zeros, uint8, float32\n",
    "from pylab import imshow, show, cm\n",
    "import matplotlib\n",
    "import numpy as np\n",
    "import matplotlib.pyplot as plt\n",
    "\n",
    "#Initialize for keras\n",
    "import keras\n",
    "from keras.datasets import mnist\n",
    "from keras.models import Sequential, Input,Model\n",
    "from keras.layers import Dense, Dropout, Flatten\n",
    "from keras.layers import Conv2D, MaxPooling2D, AveragePooling2D\n",
    "from keras import backend as K"
   ]
  },
  {
   "cell_type": "code",
   "execution_count": 2,
   "metadata": {
    "collapsed": true,
    "deletable": true,
    "editable": true
   },
   "outputs": [],
   "source": [
    "# Define functions for reading data.\n",
    "# Based on https://gist.github.com/tylerneylon/\n",
    "def read_idx(filename):\n",
    "    \"\"\"\n",
    "        Read from file and create numpy array\n",
    "    \"\"\"\n",
    "    with open(filename, 'rb') as f:\n",
    "        zero, data_type, dims = struct.unpack('>HBB', f.read(4))\n",
    "        shape = tuple(struct.unpack('>I', f.read(4))[0] for d in range(dims))\n",
    "        return np.fromstring(f.read(), dtype=np.uint8).reshape(shape)\n",
    "\n",
    "def get_data(image_file, label_file, num_classes = 10):\n",
    "    \"\"\"\n",
    "        Read the image and label data\n",
    "    \"\"\"\n",
    "    # Read the files\n",
    "    pre_images = read_idx(image_file)\n",
    "    pre_labels = read_idx(label_file)\n",
    "    \n",
    "    images = np.zeros((len(pre_images), 28,28, 1), dtype=np.float32)\n",
    "    labels = np.zeros((len(pre_labels),num_classes), dtype=np.int8)\n",
    "    for i in range(len(pre_images)):\n",
    "        pre_img=pre_images[i]\n",
    "        pre_label=pre_labels[i]\n",
    "        img = (pre_img.transpose() / 255.0)\n",
    "        images[i] = img.reshape(28,28,1) \n",
    "        labels[i] = keras.utils.to_categorical(pre_label, num_classes)\n",
    "    \n",
    "    return images, labels\n"
   ]
  },
  {
   "cell_type": "code",
   "execution_count": 3,
   "metadata": {
    "collapsed": false,
    "deletable": true,
    "editable": true
   },
   "outputs": [
    {
     "name": "stdout",
     "output_type": "stream",
     "text": [
      "Training Data\n",
      "Images Shape: (240000, 28, 28, 1)\n",
      "Labels Shape: (240000, 10)\n",
      "Training Data\n",
      "Images Shape: (40000, 28, 28, 1)\n",
      "Labels Shape: (40000, 10)\n"
     ]
    }
   ],
   "source": [
    "num_classes = 10\n",
    "\n",
    "train_image_file = '/home/carnd/data/emnist/emnist-digits-train-images-idx3-ubyte'\n",
    "train_label_file = '/home/carnd/data/emnist/emnist-digits-train-labels-idx1-ubyte'\n",
    "train_images, train_labels = get_data(train_image_file, train_label_file,num_classes)\n",
    "print ('Training Data')\n",
    "print ('Images Shape: {}'.format(train_images.shape))\n",
    "print ('Labels Shape: {}'.format(train_labels.shape))\n",
    "\n",
    "test_image_file = '/home/carnd/data/emnist/emnist-digits-test-images-idx3-ubyte'\n",
    "test_label_file = '/home/carnd/data/emnist/emnist-digits-test-labels-idx1-ubyte'\n",
    "test_images, test_labels = get_data(test_image_file, test_label_file,num_classes)\n",
    "print ('Training Data')\n",
    "print ('Images Shape: {}'.format(test_images.shape))\n",
    "print ('Labels Shape: {}'.format(test_labels.shape))"
   ]
  },
  {
   "cell_type": "code",
   "execution_count": 4,
   "metadata": {
    "collapsed": false,
    "deletable": true,
    "editable": true
   },
   "outputs": [
    {
     "name": "stdout",
     "output_type": "stream",
     "text": [
      "Label - 8 : [0 0 0 0 0 0 0 0 1 0] \n"
     ]
    },
    {
     "data": {
      "image/png": "[encoded data removed]",
      "text/plain": [
       "<matplotlib.figure.Figure at 0x7f3b305e2f98>"
      ]
     },
     "metadata": {},
     "output_type": "display_data"
    },
    {
     "name": "stdout",
     "output_type": "stream",
     "text": [
      "Label - 9 : [0 0 0 0 0 0 0 0 0 1] \n"
     ]
    },
    {
     "data": {
      "image/png": "[encoded data removed]",
      "text/plain": [
       "<matplotlib.figure.Figure at 0x7f3ace747908>"
      ]
     },
     "metadata": {},
     "output_type": "display_data"
    }
   ],
   "source": [
    "def view_image(image, label=\"\"):\n",
    "    \"\"\"View a single image.\"\"\"\n",
    "    print(\"Label - {} : {} \".format(np.argmax(label), label))\n",
    "    plt.imshow((image.reshape(28,28)), cmap=\"gray\")\n",
    "    plt.show()\n",
    "\n",
    "for i in range(2):\n",
    "    view_image(train_images[i], train_labels[i])"
   ]
  },
  {
   "cell_type": "code",
   "execution_count": 5,
   "metadata": {
    "collapsed": true,
    "deletable": true,
    "editable": true
   },
   "outputs": [],
   "source": [
    "# Train, Test split\n",
    "from sklearn.model_selection import train_test_split\n",
    "X_val, X_test, y_val, y_test = train_test_split(test_images, test_labels, test_size=0.5, random_state=42)"
   ]
  },
  {
   "cell_type": "code",
   "execution_count": 6,
   "metadata": {
    "collapsed": true,
    "deletable": true,
    "editable": true
   },
   "outputs": [],
   "source": [
    "# Initialize the hyperparameters\n",
    "input_shape = (28,28, 1)"
   ]
  },
  {
   "cell_type": "code",
   "execution_count": null,
   "metadata": {
    "collapsed": false,
    "deletable": true,
    "editable": true
   },
   "outputs": [
    {
     "name": "stdout",
     "output_type": "stream",
     "text": [
      "____________________________________________________________________________________________________\n",
      "Layer (type)                     Output Shape          Param #     Connected to                     \n",
      "====================================================================================================\n",
      "input_1 (InputLayer)             (None, 28, 28, 1)     0                                            \n",
      "____________________________________________________________________________________________________\n",
      "inc1_conv1 (Conv2D)              (None, 28, 28, 16)    160         input_1[0][0]                    \n",
      "____________________________________________________________________________________________________\n",
      "inc1_conv2 (Conv2D)              (None, 28, 28, 16)    416         input_1[0][0]                    \n",
      "____________________________________________________________________________________________________\n",
      "inc1_conv3 (Conv2D)              (None, 28, 28, 16)    800         input_1[0][0]                    \n",
      "____________________________________________________________________________________________________\n",
      "inc1_conv4 (Conv2D)              (None, 28, 28, 16)    1312        input_1[0][0]                    \n",
      "____________________________________________________________________________________________________\n",
      "inc1_concat (Concatenate)        (None, 28, 28, 64)    0           inc1_conv1[0][0]                 \n",
      "                                                                   inc1_conv2[0][0]                 \n",
      "                                                                   inc1_conv3[0][0]                 \n",
      "                                                                   inc1_conv4[0][0]                 \n",
      "____________________________________________________________________________________________________\n",
      "inc2_1by1_1 (Conv2D)             (None, 28, 28, 16)    1040        inc1_concat[0][0]                \n",
      "____________________________________________________________________________________________________\n",
      "inc2_conv1 (Conv2D)              (None, 28, 28, 32)    4640        inc2_1by1_1[0][0]                \n",
      "____________________________________________________________________________________________________\n",
      "inc2_conv2 (Conv2D)              (None, 28, 28, 32)    12832       inc2_1by1_1[0][0]                \n",
      "____________________________________________________________________________________________________\n",
      "inc2_conv3 (Conv2D)              (None, 28, 28, 32)    25120       inc2_1by1_1[0][0]                \n",
      "____________________________________________________________________________________________________\n",
      "inc2_conv4 (Conv2D)              (None, 28, 28, 32)    41504       inc2_1by1_1[0][0]                \n",
      "____________________________________________________________________________________________________\n",
      "inc2_concat (Concatenate)        (None, 28, 28, 128)   0           inc2_conv1[0][0]                 \n",
      "                                                                   inc2_conv2[0][0]                 \n",
      "                                                                   inc2_conv3[0][0]                 \n",
      "                                                                   inc2_conv4[0][0]                 \n",
      "____________________________________________________________________________________________________\n",
      "conc_1x1_1 (Conv2D)              (None, 28, 28, 16)    2064        inc2_concat[0][0]                \n",
      "____________________________________________________________________________________________________\n",
      "flatten_1 (Flatten)              (None, 12544)         0           conc_1x1_1[0][0]                 \n",
      "____________________________________________________________________________________________________\n",
      "dense1 (Dense)                   (None, 128)           1605760     flatten_1[0][0]                  \n",
      "____________________________________________________________________________________________________\n",
      "dropout_1 (Dropout)              (None, 128)           0           dense1[0][0]                     \n",
      "____________________________________________________________________________________________________\n",
      "output (Dense)                   (None, 10)            1290        dropout_1[0][0]                  \n",
      "====================================================================================================\n",
      "Total params: 1,696,938\n",
      "Trainable params: 1,696,938\n",
      "Non-trainable params: 0\n",
      "____________________________________________________________________________________________________\n"
     ]
    }
   ],
   "source": [
    "# Build model\n",
    "inputs = Input(shape=input_shape)\n",
    "\n",
    "tower_1 = Conv2D(16, (3, 3), strides=(1, 1), padding='same', name = \"inc1_conv1\", activation='relu')(inputs)\n",
    "tower_2 = Conv2D(16, (5, 5), strides=(1, 1), padding='same', name = \"inc1_conv2\", activation='relu')(inputs)\n",
    "tower_3 = Conv2D(16, (7, 7), strides=(1, 1), padding='same', name = \"inc1_conv3\", activation='relu')(inputs)\n",
    "tower_4 = Conv2D(16, (9, 9), strides=(1, 1), padding='same', name = \"inc1_conv4\", activation='relu')(inputs)\n",
    "concat_1 = keras.layers.concatenate([tower_1, tower_2, tower_3, tower_4], axis=3, name = \"inc1_concat\")\n",
    "\n",
    "reduce = Conv2D(16, (1, 1), strides=(1, 1), padding='same', name = \"inc2_1by1_1\")(concat_1)\n",
    "tower_1 = Conv2D(32, (3, 3), strides=(1, 1), padding='same', name = \"inc2_conv1\", activation='relu')(reduce)\n",
    "\n",
    "tower_2 = Conv2D(32, (5, 5), strides=(1, 1), padding='same', name = \"inc2_conv2\", activation='relu')(reduce)\n",
    "\n",
    "tower_3 = Conv2D(32, (7, 7), strides=(1, 1), padding='same', name = \"inc2_conv3\", activation='relu')(reduce)\n",
    "\n",
    "tower_4 = Conv2D(32, (9, 9), strides=(1, 1), padding='same', name = \"inc2_conv4\", activation='relu')(reduce)\n",
    "\n",
    "concat_2 = keras.layers.concatenate([tower_1, tower_2, tower_3, tower_4], axis=3, name = \"inc2_concat\")\n",
    "concat_2 = Conv2D(16, (1, 1), strides=(1, 1), padding='same', activation='relu', name = \"conc_1x1_1\")(concat_2)\n",
    "\n",
    "flat = Flatten()(concat_2)\n",
    "dense = Dense(128, activation='relu', name = \"dense1\")(flat)\n",
    "dropout = Dropout(0.4)(dense)\n",
    "outputs = Dense(num_classes, activation='softmax', name = \"output\")(dropout)\n",
    "\n",
    "model = Model(inputs=inputs, outputs=outputs)\n",
    "\n",
    "model.summary()\n",
    "model.compile(loss=keras.losses.categorical_crossentropy,\n",
    "              optimizer=keras.optimizers.Nadam(),\n",
    "              metrics=['accuracy'])"
   ]
  },
  {
   "cell_type": "code",
   "execution_count": null,
   "metadata": {
    "collapsed": false,
    "deletable": true,
    "editable": true
   },
   "outputs": [
    {
     "name": "stdout",
     "output_type": "stream",
     "text": [
      "Train on 240000 samples, validate on 20000 samples\n",
      "Epoch 1/50\n",
      "267s - loss: 0.0811 - acc: 0.9762 - val_loss: 0.0221 - val_acc: 0.9935\n",
      "Epoch 2/50\n",
      "264s - loss: 0.0332 - acc: 0.9910 - val_loss: 0.0168 - val_acc: 0.9954\n",
      "Epoch 3/50\n",
      "264s - loss: 0.0260 - acc: 0.9926 - val_loss: 0.0190 - val_acc: 0.9947\n",
      "Epoch 4/50\n",
      "264s - loss: 0.0222 - acc: 0.9939 - val_loss: 0.0170 - val_acc: 0.9950\n",
      "Epoch 5/50\n",
      "264s - loss: 0.0198 - acc: 0.9944 - val_loss: 0.0200 - val_acc: 0.9946\n",
      "Epoch 6/50\n",
      "264s - loss: 0.0182 - acc: 0.9950 - val_loss: 0.0186 - val_acc: 0.9952\n",
      "Epoch 7/50\n",
      "264s - loss: 0.0163 - acc: 0.9954 - val_loss: 0.0207 - val_acc: 0.9950\n",
      "Epoch 8/50\n",
      "264s - loss: 0.0151 - acc: 0.9957 - val_loss: 0.0210 - val_acc: 0.9954\n",
      "Epoch 9/50\n",
      "264s - loss: 0.0140 - acc: 0.9959 - val_loss: 0.0186 - val_acc: 0.9953\n",
      "Epoch 10/50\n",
      "264s - loss: 0.0132 - acc: 0.9962 - val_loss: 0.0223 - val_acc: 0.9950\n",
      "Epoch 11/50\n",
      "264s - loss: 0.0122 - acc: 0.9965 - val_loss: 0.0179 - val_acc: 0.9956\n",
      "Epoch 12/50\n",
      "264s - loss: 0.0110 - acc: 0.9968 - val_loss: 0.0230 - val_acc: 0.9950\n",
      "Epoch 13/50\n",
      "264s - loss: 0.0105 - acc: 0.9969 - val_loss: 0.0251 - val_acc: 0.9953\n",
      "Epoch 14/50\n",
      "264s - loss: 0.0109 - acc: 0.9969 - val_loss: 0.0207 - val_acc: 0.9961\n",
      "Epoch 15/50\n",
      "264s - loss: 0.0095 - acc: 0.9973 - val_loss: 0.0240 - val_acc: 0.9952\n",
      "Epoch 16/50\n",
      "264s - loss: 0.0089 - acc: 0.9974 - val_loss: 0.0235 - val_acc: 0.9958\n",
      "Epoch 17/50\n",
      "264s - loss: 0.0098 - acc: 0.9972 - val_loss: 0.0281 - val_acc: 0.9951\n",
      "Epoch 18/50\n",
      "264s - loss: 0.0095 - acc: 0.9975 - val_loss: 0.0262 - val_acc: 0.9954\n",
      "Epoch 19/50\n",
      "264s - loss: 0.0089 - acc: 0.9975 - val_loss: 0.0275 - val_acc: 0.9954\n",
      "Epoch 20/50\n",
      "264s - loss: 0.0094 - acc: 0.9975 - val_loss: 0.0286 - val_acc: 0.9952\n",
      "Epoch 21/50\n",
      "264s - loss: 0.0085 - acc: 0.9977 - val_loss: 0.0241 - val_acc: 0.9958\n",
      "Epoch 22/50\n",
      "264s - loss: 0.0090 - acc: 0.9975 - val_loss: 0.0270 - val_acc: 0.9953\n",
      "Epoch 23/50\n",
      "265s - loss: 0.0080 - acc: 0.9979 - val_loss: 0.0335 - val_acc: 0.9957\n",
      "Epoch 24/50\n"
     ]
    }
   ],
   "source": [
    "batch_size = 250\n",
    "epochs = 50\n",
    "history = model.fit(train_images, train_labels,\n",
    "          batch_size=batch_size,\n",
    "          epochs=epochs,\n",
    "          verbose=2,\n",
    "          validation_data=(X_val, y_val))"
   ]
  },
  {
   "cell_type": "code",
   "execution_count": null,
   "metadata": {
    "collapsed": false,
    "deletable": true,
    "editable": true
   },
   "outputs": [],
   "source": [
    "# summarize history for accuracy\n",
    "plt.plot(history.history['acc'])\n",
    "plt.plot(history.history['val_acc'])\n",
    "plt.title('model accuracy')\n",
    "plt.ylabel('accuracy')\n",
    "plt.xlabel('epoch')\n",
    "plt.legend(['train', 'test'], loc='upper left')\n",
    "plt.show()\n",
    "# summarize history for loss\n",
    "plt.plot(history.history['loss'])\n",
    "plt.plot(history.history['val_loss'])\n",
    "plt.title('model loss')\n",
    "plt.ylabel('loss')\n",
    "plt.xlabel('epoch')\n",
    "plt.legend(['train', 'test'], loc='upper left')\n",
    "plt.show()"
   ]
  },
  {
   "cell_type": "code",
   "execution_count": null,
   "metadata": {
    "collapsed": false,
    "deletable": true,
    "editable": true
   },
   "outputs": [],
   "source": [
    "score = model.evaluate(X_test, y_test, verbose=1, batch_size=batch_size)\n",
    "print('Test loss:', score[0])\n",
    "print('Test accuracy:', score[1])"
   ]
  },
  {
   "cell_type": "code",
   "execution_count": null,
   "metadata": {
    "collapsed": true,
    "deletable": true,
    "editable": true
   },
   "outputs": [],
   "source": []
  }
 ],
 "metadata": {
  "anaconda-cloud": {},
  "kernelspec": {
   "display_name": "Python 3",
   "language": "python",
   "name": "python3"
  },
  "language_info": {
   "codemirror_mode": {
    "name": "ipython",
    "version": 3
   },
   "file_extension": ".py",
   "mimetype": "text/x-python",
   "name": "python",
   "nbconvert_exporter": "python",
   "pygments_lexer": "ipython3",
   "version": "3.5.2"
  },
  "widgets": {
   "state": {},
   "version": "1.1.2"
  }
 },
 "nbformat": 4,
 "nbformat_minor": 2
}
