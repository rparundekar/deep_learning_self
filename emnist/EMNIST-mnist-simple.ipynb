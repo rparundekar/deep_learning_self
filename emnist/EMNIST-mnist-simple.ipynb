{
 "cells": [
  {
   "cell_type": "code",
   "execution_count": 1,
   "metadata": {
    "collapsed": false,
    "deletable": true,
    "editable": true
   },
   "outputs": [
    {
     "name": "stderr",
     "output_type": "stream",
     "text": [
      "Using TensorFlow backend.\n"
     ]
    }
   ],
   "source": [
    "%matplotlib inline  \n",
    "import struct\n",
    "from struct import unpack\n",
    "from numpy import zeros, uint8, float32\n",
    "from pylab import imshow, show, cm\n",
    "import matplotlib\n",
    "import numpy as np\n",
    "import matplotlib.pyplot as plt\n",
    "import subprocess\n",
    "\n",
    "\n",
    "#Initialize for keras\n",
    "import keras\n",
    "from keras.datasets import mnist\n",
    "from keras.models import Sequential, Input,Model\n",
    "from keras.layers import Dense, Dropout, Flatten\n",
    "from keras.layers import Conv2D, MaxPooling2D, AveragePooling2D\n",
    "from keras import backend as K"
   ]
  },
  {
   "cell_type": "code",
   "execution_count": 2,
   "metadata": {
    "collapsed": true,
    "deletable": true,
    "editable": true
   },
   "outputs": [],
   "source": [
    "# Define functions for reading data.\n",
    "# Based on https://gist.github.com/tylerneylon/\n",
    "def read_idx(filename):\n",
    "    \"\"\"\n",
    "        Read from file and create numpy array\n",
    "    \"\"\"\n",
    "    with open(filename, 'rb') as f:\n",
    "        zero, data_type, dims = struct.unpack('>HBB', f.read(4))\n",
    "        shape = tuple(struct.unpack('>I', f.read(4))[0] for d in range(dims))\n",
    "        return np.fromstring(f.read(), dtype=np.uint8).reshape(shape)\n",
    "\n",
    "def get_data(image_file, label_file, num_classes = 10):\n",
    "    \"\"\"\n",
    "        Read the image and label data\n",
    "    \"\"\"\n",
    "    # Read the files\n",
    "    pre_images = read_idx(image_file)\n",
    "    pre_labels = read_idx(label_file)\n",
    "    \n",
    "    images = np.zeros((len(pre_images), 28,28, 1), dtype=np.float32)\n",
    "    labels = np.zeros((len(pre_labels),num_classes), dtype=np.int8)\n",
    "    for i in range(len(pre_images)):\n",
    "        pre_img=pre_images[i]\n",
    "        pre_label=pre_labels[i]\n",
    "        img = (pre_img.transpose() / 255.0)\n",
    "        images[i] = img.reshape(28,28,1) \n",
    "        labels[i] = keras.utils.to_categorical(pre_label, num_classes)\n",
    "    \n",
    "    return images, labels\n",
    "\n",
    "def file_len(fname):\n",
    "    p = subprocess.Popen(['wc', '-l', fname], stdout=subprocess.PIPE, \n",
    "                                              stderr=subprocess.PIPE)\n",
    "    result, err = p.communicate()\n",
    "    if p.returncode != 0:\n",
    "        raise IOError(err)\n",
    "    return int(result.strip().split()[0])"
   ]
  },
  {
   "cell_type": "code",
   "execution_count": 3,
   "metadata": {
    "collapsed": false,
    "deletable": true,
    "editable": true
   },
   "outputs": [
    {
     "name": "stdout",
     "output_type": "stream",
     "text": [
      "Training Data\n",
      "Images Shape: (60000, 28, 28, 1)\n",
      "Labels Shape: (60000, 10)\n",
      "Training Data\n",
      "Images Shape: (10000, 28, 28, 1)\n",
      "Labels Shape: (10000, 10)\n"
     ]
    }
   ],
   "source": [
    "train_mapping_file = '/home/carnd/data/emnist/emnist-mnist-mapping.txt'\n",
    "num_classes = file_len(train_mapping_file)\n",
    "train_image_file = '/home/carnd/data/emnist/emnist-mnist-train-images-idx3-ubyte'\n",
    "train_label_file = '/home/carnd/data/emnist/emnist-mnist-train-labels-idx1-ubyte'\n",
    "train_images, train_labels = get_data(train_image_file, train_label_file,num_classes)\n",
    "print ('Training Data')\n",
    "print ('Images Shape: {}'.format(train_images.shape))\n",
    "print ('Labels Shape: {}'.format(train_labels.shape))\n",
    "\n",
    "test_image_file = '/home/carnd/data/emnist/emnist-mnist-test-images-idx3-ubyte'\n",
    "test_label_file = '/home/carnd/data/emnist/emnist-mnist-test-labels-idx1-ubyte'\n",
    "test_images, test_labels = get_data(test_image_file, test_label_file,num_classes)\n",
    "print ('Training Data')\n",
    "print ('Images Shape: {}'.format(test_images.shape))\n",
    "print ('Labels Shape: {}'.format(test_labels.shape))"
   ]
  },
  {
   "cell_type": "code",
   "execution_count": 4,
   "metadata": {
    "collapsed": false,
    "deletable": true,
    "editable": true
   },
   "outputs": [
    {
     "name": "stdout",
     "output_type": "stream",
     "text": [
      "Label - 4 : [0 0 0 0 1 0 0 0 0 0] \n"
     ]
    },
    {
     "data": {
      "image/png": "[encoded data removed]",
      "text/plain": [
       "<matplotlib.figure.Figure at 0x7ffbc8eb5ac8>"
      ]
     },
     "metadata": {},
     "output_type": "display_data"
    },
    {
     "name": "stdout",
     "output_type": "stream",
     "text": [
      "Label - 1 : [0 1 0 0 0 0 0 0 0 0] \n"
     ]
    },
    {
     "data": {
      "image/png": "[encoded data removed]",
      "text/plain": [
       "<matplotlib.figure.Figure at 0x7ffbb16a7470>"
      ]
     },
     "metadata": {},
     "output_type": "display_data"
    }
   ],
   "source": [
    "def view_image(image, label=\"\"):\n",
    "    \"\"\"View a single image.\"\"\"\n",
    "    print(\"Label - {} : {} \".format(np.argmax(label), label))\n",
    "    plt.imshow((image.reshape(28,28)), cmap=\"gray\")\n",
    "    plt.show()\n",
    "\n",
    "for i in range(2):\n",
    "    view_image(train_images[i], train_labels[i])"
   ]
  },
  {
   "cell_type": "code",
   "execution_count": 5,
   "metadata": {
    "collapsed": true,
    "deletable": true,
    "editable": true
   },
   "outputs": [],
   "source": [
    "# Train, Test split\n",
    "from sklearn.model_selection import train_test_split\n",
    "X_val, X_test, y_val, y_test = train_test_split(test_images, test_labels, test_size=0.5, random_state=42)"
   ]
  },
  {
   "cell_type": "code",
   "execution_count": 6,
   "metadata": {
    "collapsed": true,
    "deletable": true,
    "editable": true
   },
   "outputs": [],
   "source": [
    "# Initialize the hyperparameters\n",
    "input_shape = (28,28, 1)"
   ]
  },
  {
   "cell_type": "code",
   "execution_count": 7,
   "metadata": {
    "collapsed": false,
    "deletable": true,
    "editable": true
   },
   "outputs": [
    {
     "name": "stdout",
     "output_type": "stream",
     "text": [
      "_________________________________________________________________\n",
      "Layer (type)                 Output Shape              Param #   \n",
      "=================================================================\n",
      "input_1 (InputLayer)         (None, 28, 28, 1)         0         \n",
      "_________________________________________________________________\n",
      "conv1 (Conv2D)               (None, 28, 28, 32)        1600      \n",
      "_________________________________________________________________\n",
      "average_pooling2d_1 (Average (None, 9, 9, 32)          0         \n",
      "_________________________________________________________________\n",
      "conv2 (Conv2D)               (None, 9, 9, 64)          18496     \n",
      "_________________________________________________________________\n",
      "average_pooling2d_2 (Average (None, 4, 4, 64)          0         \n",
      "_________________________________________________________________\n",
      "conv3 (Conv2D)               (None, 4, 4, 128)         73856     \n",
      "_________________________________________________________________\n",
      "flatten_1 (Flatten)          (None, 2048)              0         \n",
      "_________________________________________________________________\n",
      "dense2 (Dense)               (None, 128)               262272    \n",
      "_________________________________________________________________\n",
      "dropout_1 (Dropout)          (None, 128)               0         \n",
      "_________________________________________________________________\n",
      "output (Dense)               (None, 10)                1290      \n",
      "=================================================================\n",
      "Total params: 357,514\n",
      "Trainable params: 357,514\n",
      "Non-trainable params: 0\n",
      "_________________________________________________________________\n"
     ]
    }
   ],
   "source": [
    "# Build model\n",
    "inputs = Input(shape=input_shape)\n",
    "conv = Conv2D(32, (7, 7), strides=(1, 1), padding='same', name = \"conv1\", activation='relu')(inputs)\n",
    "conv = AveragePooling2D((3, 3))(conv)\n",
    "conv = Conv2D(64, (3, 3), strides=(1, 1), padding='same', name = \"conv2\", activation='relu')(conv)\n",
    "conv = AveragePooling2D((2, 2))(conv)\n",
    "conv = Conv2D(128, (3, 3), strides=(1, 1), padding='same', name = \"conv3\", activation='relu')(conv)\n",
    "flat = Flatten()(conv)\n",
    "dense = Dense(128, activation='relu', name = \"dense2\")(flat)\n",
    "dropout = Dropout(0.4)(dense)\n",
    "outputs = Dense(num_classes, activation='softmax', name = \"output\")(dropout)\n",
    "\n",
    "model = Model(inputs=inputs, outputs=outputs)\n",
    "\n",
    "model.summary()\n",
    "model.compile(loss=keras.losses.categorical_crossentropy,\n",
    "              optimizer=keras.optimizers.Nadam(),\n",
    "              metrics=['accuracy'])"
   ]
  },
  {
   "cell_type": "code",
   "execution_count": 8,
   "metadata": {
    "collapsed": false,
    "deletable": true,
    "editable": true
   },
   "outputs": [
    {
     "name": "stdout",
     "output_type": "stream",
     "text": [
      "Train on 60000 samples, validate on 5000 samples\n",
      "Epoch 1/50\n",
      "7s - loss: 0.7582 - acc: 0.7600 - val_loss: 0.1943 - val_acc: 0.9414\n",
      "Epoch 2/50\n",
      "6s - loss: 0.1585 - acc: 0.9530 - val_loss: 0.0719 - val_acc: 0.9766\n",
      "Epoch 3/50\n",
      "6s - loss: 0.0875 - acc: 0.9744 - val_loss: 0.0515 - val_acc: 0.9822\n",
      "Epoch 4/50\n",
      "6s - loss: 0.0757 - acc: 0.9775 - val_loss: 0.0425 - val_acc: 0.9862\n",
      "Epoch 5/50\n",
      "6s - loss: 0.0563 - acc: 0.9836 - val_loss: 0.0392 - val_acc: 0.9878\n",
      "Epoch 6/50\n",
      "6s - loss: 0.0457 - acc: 0.9863 - val_loss: 0.0336 - val_acc: 0.9886\n",
      "Epoch 7/50\n",
      "6s - loss: 0.0402 - acc: 0.9876 - val_loss: 0.0359 - val_acc: 0.9874\n",
      "Epoch 8/50\n",
      "6s - loss: 0.0360 - acc: 0.9889 - val_loss: 0.0330 - val_acc: 0.9896\n",
      "Epoch 9/50\n",
      "6s - loss: 0.0316 - acc: 0.9902 - val_loss: 0.0275 - val_acc: 0.9912\n",
      "Epoch 10/50\n",
      "6s - loss: 0.0280 - acc: 0.9917 - val_loss: 0.0307 - val_acc: 0.9894\n",
      "Epoch 11/50\n",
      "6s - loss: 0.0249 - acc: 0.9923 - val_loss: 0.0232 - val_acc: 0.9922\n",
      "Epoch 12/50\n",
      "6s - loss: 0.0226 - acc: 0.9931 - val_loss: 0.0222 - val_acc: 0.9924\n",
      "Epoch 13/50\n",
      "6s - loss: 0.0213 - acc: 0.9934 - val_loss: 0.0211 - val_acc: 0.9932\n",
      "Epoch 14/50\n",
      "6s - loss: 0.0183 - acc: 0.9945 - val_loss: 0.0298 - val_acc: 0.9914\n",
      "Epoch 15/50\n",
      "6s - loss: 0.0176 - acc: 0.9944 - val_loss: 0.0240 - val_acc: 0.9930\n",
      "Epoch 16/50\n",
      "6s - loss: 0.0150 - acc: 0.9953 - val_loss: 0.0232 - val_acc: 0.9940\n",
      "Epoch 17/50\n",
      "6s - loss: 0.0140 - acc: 0.9955 - val_loss: 0.0251 - val_acc: 0.9918\n",
      "Epoch 18/50\n",
      "6s - loss: 0.0143 - acc: 0.9955 - val_loss: 0.0226 - val_acc: 0.9930\n",
      "Epoch 19/50\n",
      "6s - loss: 0.0125 - acc: 0.9961 - val_loss: 0.0282 - val_acc: 0.9914\n",
      "Epoch 20/50\n",
      "6s - loss: 0.0110 - acc: 0.9968 - val_loss: 0.0237 - val_acc: 0.9928\n",
      "Epoch 21/50\n",
      "6s - loss: 0.0107 - acc: 0.9964 - val_loss: 0.0256 - val_acc: 0.9928\n",
      "Epoch 22/50\n",
      "6s - loss: 0.0086 - acc: 0.9973 - val_loss: 0.0258 - val_acc: 0.9934\n",
      "Epoch 23/50\n",
      "6s - loss: 0.0090 - acc: 0.9972 - val_loss: 0.0228 - val_acc: 0.9936\n",
      "Epoch 24/50\n",
      "6s - loss: 0.0094 - acc: 0.9969 - val_loss: 0.0241 - val_acc: 0.9940\n",
      "Epoch 25/50\n",
      "6s - loss: 0.0086 - acc: 0.9973 - val_loss: 0.0238 - val_acc: 0.9938\n",
      "Epoch 26/50\n",
      "6s - loss: 0.0084 - acc: 0.9973 - val_loss: 0.0252 - val_acc: 0.9930\n",
      "Epoch 27/50\n",
      "6s - loss: 0.0082 - acc: 0.9974 - val_loss: 0.0218 - val_acc: 0.9940\n",
      "Epoch 28/50\n",
      "6s - loss: 0.0077 - acc: 0.9975 - val_loss: 0.0208 - val_acc: 0.9946\n",
      "Epoch 29/50\n",
      "6s - loss: 0.0076 - acc: 0.9976 - val_loss: 0.0224 - val_acc: 0.9944\n",
      "Epoch 30/50\n",
      "6s - loss: 0.0070 - acc: 0.9978 - val_loss: 0.0226 - val_acc: 0.9942\n",
      "Epoch 31/50\n",
      "6s - loss: 0.0065 - acc: 0.9980 - val_loss: 0.0287 - val_acc: 0.9932\n",
      "Epoch 32/50\n",
      "6s - loss: 0.0068 - acc: 0.9978 - val_loss: 0.0258 - val_acc: 0.9936\n",
      "Epoch 33/50\n",
      "6s - loss: 0.0056 - acc: 0.9982 - val_loss: 0.0225 - val_acc: 0.9940\n",
      "Epoch 34/50\n",
      "6s - loss: 0.0060 - acc: 0.9978 - val_loss: 0.0216 - val_acc: 0.9950\n",
      "Epoch 35/50\n",
      "6s - loss: 0.0058 - acc: 0.9983 - val_loss: 0.0269 - val_acc: 0.9946\n",
      "Epoch 36/50\n",
      "6s - loss: 0.0050 - acc: 0.9984 - val_loss: 0.0260 - val_acc: 0.9942\n",
      "Epoch 37/50\n",
      "6s - loss: 0.0054 - acc: 0.9983 - val_loss: 0.0212 - val_acc: 0.9954\n",
      "Epoch 38/50\n",
      "6s - loss: 0.0057 - acc: 0.9982 - val_loss: 0.0221 - val_acc: 0.9944\n",
      "Epoch 39/50\n",
      "6s - loss: 0.0049 - acc: 0.9984 - val_loss: 0.0271 - val_acc: 0.9934\n",
      "Epoch 40/50\n",
      "6s - loss: 0.0059 - acc: 0.9979 - val_loss: 0.0273 - val_acc: 0.9930\n",
      "Epoch 41/50\n",
      "6s - loss: 0.0063 - acc: 0.9980 - val_loss: 0.0216 - val_acc: 0.9946\n",
      "Epoch 42/50\n",
      "6s - loss: 0.0044 - acc: 0.9986 - val_loss: 0.0243 - val_acc: 0.9936\n",
      "Epoch 43/50\n",
      "6s - loss: 0.0041 - acc: 0.9987 - val_loss: 0.0264 - val_acc: 0.9950\n",
      "Epoch 44/50\n",
      "6s - loss: 0.0040 - acc: 0.9989 - val_loss: 0.0252 - val_acc: 0.9952\n",
      "Epoch 45/50\n",
      "6s - loss: 0.0040 - acc: 0.9989 - val_loss: 0.0291 - val_acc: 0.9940\n",
      "Epoch 46/50\n",
      "6s - loss: 0.0052 - acc: 0.9985 - val_loss: 0.0273 - val_acc: 0.9932\n",
      "Epoch 47/50\n",
      "6s - loss: 0.0038 - acc: 0.9989 - val_loss: 0.0222 - val_acc: 0.9954\n",
      "Epoch 48/50\n",
      "6s - loss: 0.0047 - acc: 0.9987 - val_loss: 0.0324 - val_acc: 0.9936\n",
      "Epoch 49/50\n",
      "6s - loss: 0.0046 - acc: 0.9986 - val_loss: 0.0284 - val_acc: 0.9940\n",
      "Epoch 50/50\n",
      "6s - loss: 0.0048 - acc: 0.9986 - val_loss: 0.0292 - val_acc: 0.9932\n"
     ]
    }
   ],
   "source": [
    "batch_size = 1000\n",
    "epochs = 50\n",
    "history = model.fit(train_images, train_labels,\n",
    "          batch_size=batch_size,\n",
    "          epochs=epochs,\n",
    "          verbose=2,\n",
    "          validation_data=(X_val, y_val))"
   ]
  },
  {
   "cell_type": "code",
   "execution_count": 9,
   "metadata": {
    "collapsed": false,
    "deletable": true,
    "editable": true
   },
   "outputs": [
    {
     "data": {
      "image/png": "[encoded data removed]",
      "text/plain": [
       "<matplotlib.figure.Figure at 0x7ffb3c526cf8>"
      ]
     },
     "metadata": {},
     "output_type": "display_data"
    },
    {
     "data": {
      "image/png": "[encoded data removed]",
      "text/plain": [
       "<matplotlib.figure.Figure at 0x7ffb384f6278>"
      ]
     },
     "metadata": {},
     "output_type": "display_data"
    }
   ],
   "source": [
    "# summarize history for accuracy\n",
    "plt.plot(history.history['acc'])\n",
    "plt.plot(history.history['val_acc'])\n",
    "plt.title('model accuracy')\n",
    "plt.ylabel('accuracy')\n",
    "plt.xlabel('epoch')\n",
    "plt.legend(['train', 'test'], loc='upper left')\n",
    "plt.show()\n",
    "# summarize history for loss\n",
    "plt.plot(history.history['loss'])\n",
    "plt.plot(history.history['val_loss'])\n",
    "plt.title('model loss')\n",
    "plt.ylabel('loss')\n",
    "plt.xlabel('epoch')\n",
    "plt.legend(['train', 'test'], loc='upper left')\n",
    "plt.show()"
   ]
  },
  {
   "cell_type": "code",
   "execution_count": 10,
   "metadata": {
    "collapsed": false,
    "deletable": true,
    "editable": true
   },
   "outputs": [
    {
     "name": "stdout",
     "output_type": "stream",
     "text": [
      "5000/5000 [==============================] - 0s     \b\b\b\b\b\b\b\b\b\b\b\b\b\b\b\b\b\b\b\b\b\b\b\b\b\b\b\b\b\b\b\b\b\b\b\b\b\b\b\b\b\b\b\b\b\b\b\b\b\b\b\b\b\b\b\b\b\b\b\b\b\b\b\b\b\b\b\b\b\b\b\b\b\b\b\b\b\b\b\b\b\b\b\b\b\b\b\b\b\b\b\b\b\b\b\b\b\b\b\b\b\b\b\b\n",
      "Test loss: 0.0279825121164\n",
      "Test accuracy: 0.99279999733\n"
     ]
    }
   ],
   "source": [
    "score = model.evaluate(X_test, y_test, verbose=1, batch_size=batch_size)\n",
    "print('Test loss:', score[0])\n",
    "print('Test accuracy:', score[1])"
   ]
  },
  {
   "cell_type": "code",
   "execution_count": null,
   "metadata": {
    "collapsed": true,
    "deletable": true,
    "editable": true
   },
   "outputs": [],
   "source": []
  }
 ],
 "metadata": {
  "anaconda-cloud": {},
  "kernelspec": {
   "display_name": "Python 3",
   "language": "python",
   "name": "python3"
  },
  "language_info": {
   "codemirror_mode": {
    "name": "ipython",
    "version": 3
   },
   "file_extension": ".py",
   "mimetype": "text/x-python",
   "name": "python",
   "nbconvert_exporter": "python",
   "pygments_lexer": "ipython3",
   "version": "3.5.2"
  },
  "widgets": {
   "state": {},
   "version": "1.1.2"
  }
 },
 "nbformat": 4,
 "nbformat_minor": 2
}
